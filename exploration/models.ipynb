{
 "cells": [
  {
   "cell_type": "code",
   "execution_count": 131,
   "id": "93490a8b",
   "metadata": {},
   "outputs": [
    {
     "data": {
      "text/html": [
       "<div>\n",
       "<style scoped>\n",
       "    .dataframe tbody tr th:only-of-type {\n",
       "        vertical-align: middle;\n",
       "    }\n",
       "\n",
       "    .dataframe tbody tr th {\n",
       "        vertical-align: top;\n",
       "    }\n",
       "\n",
       "    .dataframe thead th {\n",
       "        text-align: right;\n",
       "    }\n",
       "</style>\n",
       "<table border=\"1\" class=\"dataframe\">\n",
       "  <thead>\n",
       "    <tr style=\"text-align: right;\">\n",
       "      <th></th>\n",
       "      <th>Trip_Distance_km</th>\n",
       "      <th>Time_of_Day</th>\n",
       "      <th>Day_of_Week</th>\n",
       "      <th>Passenger_Count</th>\n",
       "      <th>Traffic_Conditions</th>\n",
       "      <th>Weather</th>\n",
       "      <th>Base_Fare</th>\n",
       "      <th>Per_Km_Rate</th>\n",
       "      <th>Per_Minute_Rate</th>\n",
       "      <th>Trip_Duration_Minutes</th>\n",
       "      <th>Trip_Price</th>\n",
       "    </tr>\n",
       "  </thead>\n",
       "  <tbody>\n",
       "    <tr>\n",
       "      <th>0</th>\n",
       "      <td>19.35</td>\n",
       "      <td>Morning</td>\n",
       "      <td>Weekday</td>\n",
       "      <td>3.0</td>\n",
       "      <td>Low</td>\n",
       "      <td>Clear</td>\n",
       "      <td>3.56</td>\n",
       "      <td>0.80</td>\n",
       "      <td>0.32</td>\n",
       "      <td>53.82</td>\n",
       "      <td>36.2624</td>\n",
       "    </tr>\n",
       "    <tr>\n",
       "      <th>2</th>\n",
       "      <td>36.87</td>\n",
       "      <td>Evening</td>\n",
       "      <td>Weekend</td>\n",
       "      <td>1.0</td>\n",
       "      <td>High</td>\n",
       "      <td>Clear</td>\n",
       "      <td>2.70</td>\n",
       "      <td>1.21</td>\n",
       "      <td>0.15</td>\n",
       "      <td>37.27</td>\n",
       "      <td>52.9032</td>\n",
       "    </tr>\n",
       "    <tr>\n",
       "      <th>3</th>\n",
       "      <td>30.33</td>\n",
       "      <td>Evening</td>\n",
       "      <td>Weekday</td>\n",
       "      <td>4.0</td>\n",
       "      <td>Low</td>\n",
       "      <td>NaN</td>\n",
       "      <td>3.48</td>\n",
       "      <td>0.51</td>\n",
       "      <td>0.15</td>\n",
       "      <td>116.81</td>\n",
       "      <td>36.4698</td>\n",
       "    </tr>\n",
       "    <tr>\n",
       "      <th>4</th>\n",
       "      <td>25.83</td>\n",
       "      <td>Evening</td>\n",
       "      <td>Weekday</td>\n",
       "      <td>3.0</td>\n",
       "      <td>High</td>\n",
       "      <td>Clear</td>\n",
       "      <td>2.93</td>\n",
       "      <td>0.63</td>\n",
       "      <td>0.32</td>\n",
       "      <td>22.64</td>\n",
       "      <td>15.6180</td>\n",
       "    </tr>\n",
       "    <tr>\n",
       "      <th>5</th>\n",
       "      <td>8.64</td>\n",
       "      <td>Afternoon</td>\n",
       "      <td>Weekend</td>\n",
       "      <td>2.0</td>\n",
       "      <td>Medium</td>\n",
       "      <td>Clear</td>\n",
       "      <td>2.55</td>\n",
       "      <td>1.71</td>\n",
       "      <td>0.48</td>\n",
       "      <td>89.33</td>\n",
       "      <td>60.2028</td>\n",
       "    </tr>\n",
       "  </tbody>\n",
       "</table>\n",
       "</div>"
      ],
      "text/plain": [
       "   Trip_Distance_km Time_of_Day Day_of_Week  Passenger_Count  \\\n",
       "0             19.35     Morning     Weekday              3.0   \n",
       "2             36.87     Evening     Weekend              1.0   \n",
       "3             30.33     Evening     Weekday              4.0   \n",
       "4             25.83     Evening     Weekday              3.0   \n",
       "5              8.64   Afternoon     Weekend              2.0   \n",
       "\n",
       "  Traffic_Conditions Weather  Base_Fare  Per_Km_Rate  Per_Minute_Rate  \\\n",
       "0                Low   Clear       3.56         0.80             0.32   \n",
       "2               High   Clear       2.70         1.21             0.15   \n",
       "3                Low     NaN       3.48         0.51             0.15   \n",
       "4               High   Clear       2.93         0.63             0.32   \n",
       "5             Medium   Clear       2.55         1.71             0.48   \n",
       "\n",
       "   Trip_Duration_Minutes  Trip_Price  \n",
       "0                  53.82     36.2624  \n",
       "2                  37.27     52.9032  \n",
       "3                 116.81     36.4698  \n",
       "4                  22.64     15.6180  \n",
       "5                  89.33     60.2028  "
      ]
     },
     "execution_count": 131,
     "metadata": {},
     "output_type": "execute_result"
    }
   ],
   "source": [
    "import pandas as pd\n",
    "df_original = pd.read_csv(\"../src/taxipred/data/cleaned_data.csv\", index_col=0)\n",
    "df_original.head()"
   ]
  },
  {
   "cell_type": "code",
   "execution_count": 132,
   "id": "c5d166df",
   "metadata": {},
   "outputs": [
    {
     "name": "stdout",
     "output_type": "stream",
     "text": [
      "<class 'pandas.core.frame.DataFrame'>\n",
      "Index: 923 entries, 0 to 999\n",
      "Data columns (total 11 columns):\n",
      " #   Column                 Non-Null Count  Dtype  \n",
      "---  ------                 --------------  -----  \n",
      " 0   Trip_Distance_km       923 non-null    float64\n",
      " 1   Time_of_Day            876 non-null    object \n",
      " 2   Day_of_Week            878 non-null    object \n",
      " 3   Passenger_Count        923 non-null    float64\n",
      " 4   Traffic_Conditions     874 non-null    object \n",
      " 5   Weather                878 non-null    object \n",
      " 6   Base_Fare              923 non-null    float64\n",
      " 7   Per_Km_Rate            923 non-null    float64\n",
      " 8   Per_Minute_Rate        923 non-null    float64\n",
      " 9   Trip_Duration_Minutes  923 non-null    float64\n",
      " 10  Trip_Price             923 non-null    float64\n",
      "dtypes: float64(7), object(4)\n",
      "memory usage: 86.5+ KB\n"
     ]
    }
   ],
   "source": [
    "df_original.info()\n"
   ]
  },
  {
   "cell_type": "code",
   "execution_count": 133,
   "id": "aaeef19c",
   "metadata": {},
   "outputs": [
    {
     "data": {
      "text/plain": [
       "Day_of_Week\n",
       "Weekday    645\n",
       "Weekend    278\n",
       "Name: count, dtype: int64"
      ]
     },
     "execution_count": 133,
     "metadata": {},
     "output_type": "execute_result"
    }
   ],
   "source": [
    "df_filled = df_original.copy()\n",
    "df_filled[\"Time_of_Day\"] = df_filled[\"Time_of_Day\"].fillna(\"Afternoon\")\n",
    "df_filled[\"Day_of_Week\"] = df_filled[\"Day_of_Week\"].fillna(\"Weekday\")\n",
    "df_filled[\"Traffic_Conditions\"] = df_filled[\"Traffic_Conditions\"].fillna(\"Low\") #stor öking, 363 mot 412!  \n",
    "df_filled[\"Weather\"] = df_filled[\"Weather\"].fillna(\"Clear\")\n",
    "\n",
    "\n",
    "df_filled[\"Day_of_Week\"].value_counts()\n"
   ]
  },
  {
   "cell_type": "code",
   "execution_count": 134,
   "id": "2b7d2090",
   "metadata": {},
   "outputs": [
    {
     "name": "stdout",
     "output_type": "stream",
     "text": [
      "<class 'pandas.core.frame.DataFrame'>\n",
      "Index: 923 entries, 0 to 999\n",
      "Data columns (total 11 columns):\n",
      " #   Column                 Non-Null Count  Dtype  \n",
      "---  ------                 --------------  -----  \n",
      " 0   Trip_Distance_km       923 non-null    float64\n",
      " 1   Time_of_Day            923 non-null    object \n",
      " 2   Day_of_Week            923 non-null    object \n",
      " 3   Passenger_Count        923 non-null    float64\n",
      " 4   Traffic_Conditions     923 non-null    object \n",
      " 5   Weather                923 non-null    object \n",
      " 6   Base_Fare              923 non-null    float64\n",
      " 7   Per_Km_Rate            923 non-null    float64\n",
      " 8   Per_Minute_Rate        923 non-null    float64\n",
      " 9   Trip_Duration_Minutes  923 non-null    float64\n",
      " 10  Trip_Price             923 non-null    float64\n",
      "dtypes: float64(7), object(4)\n",
      "memory usage: 86.5+ KB\n"
     ]
    }
   ],
   "source": [
    "df_filled.info()"
   ]
  },
  {
   "cell_type": "markdown",
   "id": "6e9bb0c8",
   "metadata": {},
   "source": [
    "### Is the data normally distributed? "
   ]
  },
  {
   "cell_type": "code",
   "execution_count": 135,
   "id": "4110e410",
   "metadata": {},
   "outputs": [
    {
     "data": {
      "image/png": "[encoded data removed]",
      "text/plain": [
       "<Figure size 1500x1000 with 9 Axes>"
      ]
     },
     "metadata": {},
     "output_type": "display_data"
    }
   ],
   "source": [
    "import matplotlib.pyplot as plt\n",
    "\n",
    "df_filled.hist(bins=30, figsize=(15,10))\n",
    "plt.tight_layout()\n",
    "plt.show()"
   ]
  },
  {
   "cell_type": "markdown",
   "id": "37e09bc3",
   "metadata": {},
   "source": [
    "## Encoding"
   ]
  },
  {
   "cell_type": "code",
   "execution_count": 136,
   "id": "b79d6cc9",
   "metadata": {},
   "outputs": [
    {
     "data": {
      "text/html": [
       "<div>\n",
       "<style scoped>\n",
       "    .dataframe tbody tr th:only-of-type {\n",
       "        vertical-align: middle;\n",
       "    }\n",
       "\n",
       "    .dataframe tbody tr th {\n",
       "        vertical-align: top;\n",
       "    }\n",
       "\n",
       "    .dataframe thead th {\n",
       "        text-align: right;\n",
       "    }\n",
       "</style>\n",
       "<table border=\"1\" class=\"dataframe\">\n",
       "  <thead>\n",
       "    <tr style=\"text-align: right;\">\n",
       "      <th></th>\n",
       "      <th>Trip_Distance_km</th>\n",
       "      <th>Passenger_Count</th>\n",
       "      <th>Base_Fare</th>\n",
       "      <th>Per_Km_Rate</th>\n",
       "      <th>Per_Minute_Rate</th>\n",
       "      <th>Trip_Duration_Minutes</th>\n",
       "      <th>Trip_Price</th>\n",
       "      <th>Time_of_Day_Evening</th>\n",
       "      <th>Time_of_Day_Morning</th>\n",
       "      <th>Time_of_Day_Night</th>\n",
       "      <th>Day_of_Week_Weekend</th>\n",
       "      <th>Traffic_Conditions_Low</th>\n",
       "      <th>Traffic_Conditions_Medium</th>\n",
       "      <th>Weather_Rain</th>\n",
       "      <th>Weather_Snow</th>\n",
       "    </tr>\n",
       "  </thead>\n",
       "  <tbody>\n",
       "    <tr>\n",
       "      <th>0</th>\n",
       "      <td>19.35</td>\n",
       "      <td>3.0</td>\n",
       "      <td>3.56</td>\n",
       "      <td>0.80</td>\n",
       "      <td>0.32</td>\n",
       "      <td>53.82</td>\n",
       "      <td>36.2624</td>\n",
       "      <td>False</td>\n",
       "      <td>True</td>\n",
       "      <td>False</td>\n",
       "      <td>False</td>\n",
       "      <td>True</td>\n",
       "      <td>False</td>\n",
       "      <td>False</td>\n",
       "      <td>False</td>\n",
       "    </tr>\n",
       "    <tr>\n",
       "      <th>2</th>\n",
       "      <td>36.87</td>\n",
       "      <td>1.0</td>\n",
       "      <td>2.70</td>\n",
       "      <td>1.21</td>\n",
       "      <td>0.15</td>\n",
       "      <td>37.27</td>\n",
       "      <td>52.9032</td>\n",
       "      <td>True</td>\n",
       "      <td>False</td>\n",
       "      <td>False</td>\n",
       "      <td>True</td>\n",
       "      <td>False</td>\n",
       "      <td>False</td>\n",
       "      <td>False</td>\n",
       "      <td>False</td>\n",
       "    </tr>\n",
       "    <tr>\n",
       "      <th>3</th>\n",
       "      <td>30.33</td>\n",
       "      <td>4.0</td>\n",
       "      <td>3.48</td>\n",
       "      <td>0.51</td>\n",
       "      <td>0.15</td>\n",
       "      <td>116.81</td>\n",
       "      <td>36.4698</td>\n",
       "      <td>True</td>\n",
       "      <td>False</td>\n",
       "      <td>False</td>\n",
       "      <td>False</td>\n",
       "      <td>True</td>\n",
       "      <td>False</td>\n",
       "      <td>False</td>\n",
       "      <td>False</td>\n",
       "    </tr>\n",
       "    <tr>\n",
       "      <th>4</th>\n",
       "      <td>25.83</td>\n",
       "      <td>3.0</td>\n",
       "      <td>2.93</td>\n",
       "      <td>0.63</td>\n",
       "      <td>0.32</td>\n",
       "      <td>22.64</td>\n",
       "      <td>15.6180</td>\n",
       "      <td>True</td>\n",
       "      <td>False</td>\n",
       "      <td>False</td>\n",
       "      <td>False</td>\n",
       "      <td>False</td>\n",
       "      <td>False</td>\n",
       "      <td>False</td>\n",
       "      <td>False</td>\n",
       "    </tr>\n",
       "    <tr>\n",
       "      <th>5</th>\n",
       "      <td>8.64</td>\n",
       "      <td>2.0</td>\n",
       "      <td>2.55</td>\n",
       "      <td>1.71</td>\n",
       "      <td>0.48</td>\n",
       "      <td>89.33</td>\n",
       "      <td>60.2028</td>\n",
       "      <td>False</td>\n",
       "      <td>False</td>\n",
       "      <td>False</td>\n",
       "      <td>True</td>\n",
       "      <td>False</td>\n",
       "      <td>True</td>\n",
       "      <td>False</td>\n",
       "      <td>False</td>\n",
       "    </tr>\n",
       "  </tbody>\n",
       "</table>\n",
       "</div>"
      ],
      "text/plain": [
       "   Trip_Distance_km  Passenger_Count  Base_Fare  Per_Km_Rate  Per_Minute_Rate  \\\n",
       "0             19.35              3.0       3.56         0.80             0.32   \n",
       "2             36.87              1.0       2.70         1.21             0.15   \n",
       "3             30.33              4.0       3.48         0.51             0.15   \n",
       "4             25.83              3.0       2.93         0.63             0.32   \n",
       "5              8.64              2.0       2.55         1.71             0.48   \n",
       "\n",
       "   Trip_Duration_Minutes  Trip_Price  Time_of_Day_Evening  \\\n",
       "0                  53.82     36.2624                False   \n",
       "2                  37.27     52.9032                 True   \n",
       "3                 116.81     36.4698                 True   \n",
       "4                  22.64     15.6180                 True   \n",
       "5                  89.33     60.2028                False   \n",
       "\n",
       "   Time_of_Day_Morning  Time_of_Day_Night  Day_of_Week_Weekend  \\\n",
       "0                 True              False                False   \n",
       "2                False              False                 True   \n",
       "3                False              False                False   \n",
       "4                False              False                False   \n",
       "5                False              False                 True   \n",
       "\n",
       "   Traffic_Conditions_Low  Traffic_Conditions_Medium  Weather_Rain  \\\n",
       "0                    True                      False         False   \n",
       "2                   False                      False         False   \n",
       "3                    True                      False         False   \n",
       "4                   False                      False         False   \n",
       "5                   False                       True         False   \n",
       "\n",
       "   Weather_Snow  \n",
       "0         False  \n",
       "2         False  \n",
       "3         False  \n",
       "4         False  \n",
       "5         False  "
      ]
     },
     "execution_count": 136,
     "metadata": {},
     "output_type": "execute_result"
    }
   ],
   "source": [
    "df_encoded = pd.get_dummies(df_filled, drop_first=True)\n",
    "df_encoded.head()"
   ]
  },
  {
   "cell_type": "markdown",
   "id": "0fced677",
   "metadata": {},
   "source": [
    "#### Train|test|val split"
   ]
  },
  {
   "cell_type": "code",
   "execution_count": null,
   "id": "d976b2de",
   "metadata": {},
   "outputs": [
    {
     "data": {
      "text/plain": [
       "((830, 14), (93, 14), (92, 14), (830,), (93,), (92,))"
      ]
     },
     "execution_count": 137,
     "metadata": {},
     "output_type": "execute_result"
    }
   ],
   "source": [
    "from sklearn.linear_model import LinearRegression\n",
    "from sklearn.ensemble import RandomForestRegressor\n",
    "from sklearn.neighbors import KNeighborsRegressor\n",
    "from xgboost import XGBRegressor\n",
    "from sklearn.linear_model import RidgeCV\n",
    "from sklearn.linear_model import ElasticNetCV\n",
    "from sklearn.model_selection import train_test_split\n",
    "from sklearn.metrics import mean_absolute_error, mean_squared_error, root_mean_squared_error\n",
    "from sklearn.preprocessing import StandardScaler\n",
    "\n",
    "X, y = df_encoded.drop(columns=\"Trip_Price\"), df_encoded[\"Trip_Price\"]\n",
    "\n",
    "X_train_full, X_test, y_train_full, y_test = train_test_split(X, y, test_size=0.1, random_state=42) #X_train_full använder du när du utvärderar alla modeller\n",
    "X_train, X_val, y_train, y_val = train_test_split(X_train_full, y_train_full, test_size=0.11, random_state=42)\n",
    "X_train_full.shape, X_train.shape, X_test.shape, X_val.shape, y_train_full.shape, y_train.shape, y_test.shape, y_val.shape\n"
   ]
  },
  {
   "cell_type": "markdown",
   "id": "eab849df",
   "metadata": {},
   "source": [
    "## Scale data"
   ]
  },
  {
   "cell_type": "code",
   "execution_count": 138,
   "id": "ef31f985",
   "metadata": {},
   "outputs": [
    {
     "data": {
      "text/plain": [
       "((738, 14), (93, 14), (92, 14))"
      ]
     },
     "execution_count": 138,
     "metadata": {},
     "output_type": "execute_result"
    }
   ],
   "source": [
    "scaler = StandardScaler()\n",
    "scaler.fit(X_train)\n",
    "\n",
    "scaled_X_train = scaler.transform(X_train)\n",
    "scaled_X_test = scaler.transform(X_test)\n",
    "scaled_X_val = scaler.transform(X_val)\n",
    "scaled_X_train.shape, scaled_X_test.shape, scaled_X_val.shape\n",
    "\n"
   ]
  },
  {
   "cell_type": "code",
   "execution_count": 139,
   "id": "094d2139",
   "metadata": {},
   "outputs": [
    {
     "name": "stdout",
     "output_type": "stream",
     "text": [
      "scaled_X_train.max()=4.071\n",
      "scaled_X_train.min()=-1.778\n",
      "scaled_X_train.std()=1.000\n",
      "\n",
      "scaled_X_test.max()=4.071\n",
      "scaled_X_test.min()=-1.732\n",
      "scaled_X_test.std()=1.018\n",
      "\n",
      "scaled_X_val.max()=4.071\n",
      "scaled_X_val.min()=-1.777\n",
      "scaled_X_val.std()=0.987\n"
     ]
    }
   ],
   "source": [
    "print(f\"{scaled_X_train.max()=:.3f}\")\n",
    "print(f\"{scaled_X_train.min()=:.3f}\")\n",
    "print(f\"{scaled_X_train.std()=:.3f}\\n\")\n",
    "print(f\"{scaled_X_test.max()=:.3f}\")\n",
    "print(f\"{scaled_X_test.min()=:.3f}\")\n",
    "print(f\"{scaled_X_test.std()=:.3f}\\n\")\n",
    "print(f\"{scaled_X_val.max()=:.3f}\")\n",
    "print(f\"{scaled_X_val.min()=:.3f}\")\n",
    "print(f\"{scaled_X_val.std()=:.3f}\")"
   ]
  },
  {
   "cell_type": "markdown",
   "id": "6e8981bd",
   "metadata": {},
   "source": [
    "## Find K for KNeighborsRegressor"
   ]
  },
  {
   "cell_type": "code",
   "execution_count": 140,
   "id": "3a1d5f0e",
   "metadata": {},
   "outputs": [
    {
     "data": {
      "text/plain": [
       "[16.191501160539104,\n",
       " 14.551954436796379,\n",
       " 14.238980550686843,\n",
       " 13.755312337257045,\n",
       " 13.751751649622358,\n",
       " 13.852065940738914,\n",
       " 13.4677758118108,\n",
       " 13.395047346267194,\n",
       " 13.138130964155913,\n",
       " 13.322361428933897]"
      ]
     },
     "execution_count": 140,
     "metadata": {},
     "output_type": "execute_result"
    }
   ],
   "source": [
    "# from sklearn.metrics import accuracy_score\n",
    "\n",
    "errors = []\n",
    "for i in range(1,50): \n",
    "    model_find_k = KNeighborsRegressor(n_neighbors=i)\n",
    "    model_find_k.fit(scaled_X_train, y_train)\n",
    "    y_pred = model_find_k.predict(scaled_X_val)\n",
    "    error = root_mean_squared_error(y_val, y_pred)\n",
    "    errors.append(error)\n",
    "errors[:10]"
   ]
  },
  {
   "cell_type": "code",
   "execution_count": 141,
   "id": "b6a07f17",
   "metadata": {},
   "outputs": [
    {
     "data": {
      "text/plain": [
       "<Axes: >"
      ]
     },
     "execution_count": 141,
     "metadata": {},
     "output_type": "execute_result"
    },
    {
     "data": {
      "image/png": "[encoded data removed]",
      "text/plain": [
       "<Figure size 640x480 with 1 Axes>"
      ]
     },
     "metadata": {},
     "output_type": "display_data"
    }
   ],
   "source": [
    "import seaborn as sns\n",
    "sns.lineplot(errors, marker=\"o\",linestyle=\"--\")"
   ]
  },
  {
   "cell_type": "code",
   "execution_count": 142,
   "id": "057efb6f",
   "metadata": {},
   "outputs": [
    {
     "name": "stdout",
     "output_type": "stream",
     "text": [
      "Best value for k:  9\n"
     ]
    }
   ],
   "source": [
    "best_index = min(errors)\n",
    "best_k = errors.index(best_index) +1\n",
    "print(\"Best value for k: \", best_k)"
   ]
  },
  {
   "cell_type": "code",
   "execution_count": 143,
   "id": "a99e06a6",
   "metadata": {},
   "outputs": [
    {
     "data": {
      "text/html": [
       "<div>\n",
       "<style scoped>\n",
       "    .dataframe tbody tr th:only-of-type {\n",
       "        vertical-align: middle;\n",
       "    }\n",
       "\n",
       "    .dataframe tbody tr th {\n",
       "        vertical-align: top;\n",
       "    }\n",
       "\n",
       "    .dataframe thead th {\n",
       "        text-align: right;\n",
       "    }\n",
       "</style>\n",
       "<table border=\"1\" class=\"dataframe\">\n",
       "  <thead>\n",
       "    <tr style=\"text-align: right;\">\n",
       "      <th></th>\n",
       "      <th>model</th>\n",
       "      <th>mae</th>\n",
       "      <th>mse</th>\n",
       "      <th>rmse</th>\n",
       "    </tr>\n",
       "  </thead>\n",
       "  <tbody>\n",
       "    <tr>\n",
       "      <th>5</th>\n",
       "      <td>XGBRegressor</td>\n",
       "      <td>1.481023</td>\n",
       "      <td>5.854454</td>\n",
       "      <td>2.419598</td>\n",
       "    </tr>\n",
       "    <tr>\n",
       "      <th>4</th>\n",
       "      <td>RandomForestRegressor</td>\n",
       "      <td>2.183940</td>\n",
       "      <td>9.208321</td>\n",
       "      <td>3.034522</td>\n",
       "    </tr>\n",
       "    <tr>\n",
       "      <th>2</th>\n",
       "      <td>ElasticNetCV</td>\n",
       "      <td>6.699805</td>\n",
       "      <td>70.010661</td>\n",
       "      <td>8.367237</td>\n",
       "    </tr>\n",
       "    <tr>\n",
       "      <th>1</th>\n",
       "      <td>RidgeCV</td>\n",
       "      <td>6.692876</td>\n",
       "      <td>70.180358</td>\n",
       "      <td>8.377372</td>\n",
       "    </tr>\n",
       "    <tr>\n",
       "      <th>0</th>\n",
       "      <td>LinearRegression</td>\n",
       "      <td>6.693271</td>\n",
       "      <td>70.211837</td>\n",
       "      <td>8.379250</td>\n",
       "    </tr>\n",
       "    <tr>\n",
       "      <th>3</th>\n",
       "      <td>KNeighborsRegressor</td>\n",
       "      <td>9.813381</td>\n",
       "      <td>138.026483</td>\n",
       "      <td>11.748467</td>\n",
       "    </tr>\n",
       "  </tbody>\n",
       "</table>\n",
       "</div>"
      ],
      "text/plain": [
       "                   model       mae         mse       rmse\n",
       "5           XGBRegressor  1.481023    5.854454   2.419598\n",
       "4  RandomForestRegressor  2.183940    9.208321   3.034522\n",
       "2           ElasticNetCV  6.699805   70.010661   8.367237\n",
       "1                RidgeCV  6.692876   70.180358   8.377372\n",
       "0       LinearRegression  6.693271   70.211837   8.379250\n",
       "3    KNeighborsRegressor  9.813381  138.026483  11.748467"
      ]
     },
     "execution_count": 143,
     "metadata": {},
     "output_type": "execute_result"
    }
   ],
   "source": [
    "models = {\n",
    "\"LinearRegression\": LinearRegression(),\n",
    "\"RidgeCV\": RidgeCV(),\n",
    "\"ElasticNetCV\": ElasticNetCV(),\n",
    "\"KNeighborsRegressor\": KNeighborsRegressor(n_neighbors=best_k),\n",
    "\"RandomForestRegressor\": RandomForestRegressor(),\n",
    "\"XGBRegressor\": XGBRegressor()\n",
    "}\n",
    "scaler = StandardScaler()\n",
    "scaler.fit(X_train_full)\n",
    "scaled_X_train = scaler.transform(X_train_full)\n",
    "result = []\n",
    "for key, model in models.items(): \n",
    "    model.fit(scaled_X_train, y_train_full)\n",
    "    y_pred = model.predict(scaled_X_val)\n",
    "    \n",
    "    mae = mean_absolute_error(y_val, y_pred)\n",
    "    mse = mean_squared_error(y_val, y_pred)\n",
    "    rmse = root_mean_squared_error(y_val, y_pred)\n",
    "    \n",
    "    # diff = y_pred[0] - y_test.iloc[0] #räkna ut diff på första[0]\n",
    "    \n",
    "    result.append([key, mae, mse, rmse])#, y_pred[0], y_test.iloc[0], diff])\n",
    "    \n",
    "df_metric = pd.DataFrame(result, columns=[\"model\", \"mae\", \"mse\", \"rmse\"])\n",
    "df_metric.sort_values(by=\"rmse\")\n"
   ]
  },
  {
   "cell_type": "markdown",
   "id": "e9965fef",
   "metadata": {},
   "source": [
    "## Chosen model: XGBOOST"
   ]
  }
 ],
 "metadata": {
  "kernelspec": {
   "display_name": "taxi-prediction-fullstack-Natali (3.12.8)",
   "language": "python",
   "name": "python3"
  },
  "language_info": {
   "codemirror_mode": {
    "name": "ipython",
    "version": 3
   },
   "file_extension": ".py",
   "mimetype": "text/x-python",
   "name": "python",
   "nbconvert_exporter": "python",
   "pygments_lexer": "ipython3",
   "version": "3.12.8"
  }
 },
 "nbformat": 4,
 "nbformat_minor": 5
}
