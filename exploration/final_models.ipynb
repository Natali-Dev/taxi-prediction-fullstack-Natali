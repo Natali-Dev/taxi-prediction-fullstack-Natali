{
 "cells": [
  {
   "cell_type": "code",
   "execution_count": 31,
   "id": "ebaeec7e",
   "metadata": {},
   "outputs": [
    {
     "data": {
      "text/html": [
       "<div>\n",
       "<style scoped>\n",
       "    .dataframe tbody tr th:only-of-type {\n",
       "        vertical-align: middle;\n",
       "    }\n",
       "\n",
       "    .dataframe tbody tr th {\n",
       "        vertical-align: top;\n",
       "    }\n",
       "\n",
       "    .dataframe thead th {\n",
       "        text-align: right;\n",
       "    }\n",
       "</style>\n",
       "<table border=\"1\" class=\"dataframe\">\n",
       "  <thead>\n",
       "    <tr style=\"text-align: right;\">\n",
       "      <th></th>\n",
       "      <th>Trip_Distance_km</th>\n",
       "      <th>Time_of_Day</th>\n",
       "      <th>Day_of_Week</th>\n",
       "      <th>Passenger_Count</th>\n",
       "      <th>Traffic_Conditions</th>\n",
       "      <th>Weather</th>\n",
       "      <th>Base_Fare</th>\n",
       "      <th>Per_Km_Rate</th>\n",
       "      <th>Per_Minute_Rate</th>\n",
       "      <th>Trip_Duration_Minutes</th>\n",
       "      <th>Trip_Price</th>\n",
       "    </tr>\n",
       "  </thead>\n",
       "  <tbody>\n",
       "    <tr>\n",
       "      <th>0</th>\n",
       "      <td>19.35</td>\n",
       "      <td>Morning</td>\n",
       "      <td>Weekday</td>\n",
       "      <td>3.0</td>\n",
       "      <td>Low</td>\n",
       "      <td>Clear</td>\n",
       "      <td>3.56</td>\n",
       "      <td>0.80</td>\n",
       "      <td>0.32</td>\n",
       "      <td>53.82</td>\n",
       "      <td>36.2624</td>\n",
       "    </tr>\n",
       "    <tr>\n",
       "      <th>1</th>\n",
       "      <td>47.59</td>\n",
       "      <td>Afternoon</td>\n",
       "      <td>Weekday</td>\n",
       "      <td>1.0</td>\n",
       "      <td>High</td>\n",
       "      <td>Clear</td>\n",
       "      <td>NaN</td>\n",
       "      <td>0.62</td>\n",
       "      <td>0.43</td>\n",
       "      <td>40.57</td>\n",
       "      <td>NaN</td>\n",
       "    </tr>\n",
       "    <tr>\n",
       "      <th>2</th>\n",
       "      <td>36.87</td>\n",
       "      <td>Evening</td>\n",
       "      <td>Weekend</td>\n",
       "      <td>1.0</td>\n",
       "      <td>High</td>\n",
       "      <td>Clear</td>\n",
       "      <td>2.70</td>\n",
       "      <td>1.21</td>\n",
       "      <td>0.15</td>\n",
       "      <td>37.27</td>\n",
       "      <td>52.9032</td>\n",
       "    </tr>\n",
       "    <tr>\n",
       "      <th>3</th>\n",
       "      <td>30.33</td>\n",
       "      <td>Evening</td>\n",
       "      <td>Weekday</td>\n",
       "      <td>4.0</td>\n",
       "      <td>Low</td>\n",
       "      <td>NaN</td>\n",
       "      <td>3.48</td>\n",
       "      <td>0.51</td>\n",
       "      <td>0.15</td>\n",
       "      <td>116.81</td>\n",
       "      <td>36.4698</td>\n",
       "    </tr>\n",
       "    <tr>\n",
       "      <th>4</th>\n",
       "      <td>NaN</td>\n",
       "      <td>Evening</td>\n",
       "      <td>Weekday</td>\n",
       "      <td>3.0</td>\n",
       "      <td>High</td>\n",
       "      <td>Clear</td>\n",
       "      <td>2.93</td>\n",
       "      <td>0.63</td>\n",
       "      <td>0.32</td>\n",
       "      <td>22.64</td>\n",
       "      <td>15.6180</td>\n",
       "    </tr>\n",
       "  </tbody>\n",
       "</table>\n",
       "</div>"
      ],
      "text/plain": [
       "   Trip_Distance_km Time_of_Day Day_of_Week  Passenger_Count  \\\n",
       "0             19.35     Morning     Weekday              3.0   \n",
       "1             47.59   Afternoon     Weekday              1.0   \n",
       "2             36.87     Evening     Weekend              1.0   \n",
       "3             30.33     Evening     Weekday              4.0   \n",
       "4               NaN     Evening     Weekday              3.0   \n",
       "\n",
       "  Traffic_Conditions Weather  Base_Fare  Per_Km_Rate  Per_Minute_Rate  \\\n",
       "0                Low   Clear       3.56         0.80             0.32   \n",
       "1               High   Clear        NaN         0.62             0.43   \n",
       "2               High   Clear       2.70         1.21             0.15   \n",
       "3                Low     NaN       3.48         0.51             0.15   \n",
       "4               High   Clear       2.93         0.63             0.32   \n",
       "\n",
       "   Trip_Duration_Minutes  Trip_Price  \n",
       "0                  53.82     36.2624  \n",
       "1                  40.57         NaN  \n",
       "2                  37.27     52.9032  \n",
       "3                 116.81     36.4698  \n",
       "4                  22.64     15.6180  "
      ]
     },
     "execution_count": 31,
     "metadata": {},
     "output_type": "execute_result"
    }
   ],
   "source": [
    "import pandas as pd\n",
    "\n",
    "df_original = pd.read_csv(\"../src/taxipred/data/taxi_trip_pricing.csv\")\n",
    "df_original.head()"
   ]
  },
  {
   "cell_type": "code",
   "execution_count": 33,
   "id": "35f0c01a",
   "metadata": {},
   "outputs": [
    {
     "data": {
      "text/html": [
       "<div>\n",
       "<style scoped>\n",
       "    .dataframe tbody tr th:only-of-type {\n",
       "        vertical-align: middle;\n",
       "    }\n",
       "\n",
       "    .dataframe tbody tr th {\n",
       "        vertical-align: top;\n",
       "    }\n",
       "\n",
       "    .dataframe thead th {\n",
       "        text-align: right;\n",
       "    }\n",
       "</style>\n",
       "<table border=\"1\" class=\"dataframe\">\n",
       "  <thead>\n",
       "    <tr style=\"text-align: right;\">\n",
       "      <th></th>\n",
       "      <th>count</th>\n",
       "      <th>mean</th>\n",
       "      <th>std</th>\n",
       "      <th>min</th>\n",
       "      <th>25%</th>\n",
       "      <th>50%</th>\n",
       "      <th>75%</th>\n",
       "      <th>max</th>\n",
       "    </tr>\n",
       "  </thead>\n",
       "  <tbody>\n",
       "    <tr>\n",
       "      <th>Trip_Distance_km</th>\n",
       "      <td>950.0</td>\n",
       "      <td>27.070547</td>\n",
       "      <td>19.905300</td>\n",
       "      <td>1.2300</td>\n",
       "      <td>12.63250</td>\n",
       "      <td>25.8300</td>\n",
       "      <td>38.40500</td>\n",
       "      <td>146.067047</td>\n",
       "    </tr>\n",
       "    <tr>\n",
       "      <th>Passenger_Count</th>\n",
       "      <td>950.0</td>\n",
       "      <td>2.476842</td>\n",
       "      <td>1.102249</td>\n",
       "      <td>1.0000</td>\n",
       "      <td>1.25000</td>\n",
       "      <td>2.0000</td>\n",
       "      <td>3.00000</td>\n",
       "      <td>4.000000</td>\n",
       "    </tr>\n",
       "    <tr>\n",
       "      <th>Base_Fare</th>\n",
       "      <td>950.0</td>\n",
       "      <td>3.502989</td>\n",
       "      <td>0.870162</td>\n",
       "      <td>2.0100</td>\n",
       "      <td>2.73000</td>\n",
       "      <td>3.5200</td>\n",
       "      <td>4.26000</td>\n",
       "      <td>5.000000</td>\n",
       "    </tr>\n",
       "    <tr>\n",
       "      <th>Per_Km_Rate</th>\n",
       "      <td>950.0</td>\n",
       "      <td>1.233316</td>\n",
       "      <td>0.429816</td>\n",
       "      <td>0.5000</td>\n",
       "      <td>0.86000</td>\n",
       "      <td>1.2200</td>\n",
       "      <td>1.61000</td>\n",
       "      <td>2.000000</td>\n",
       "    </tr>\n",
       "    <tr>\n",
       "      <th>Per_Minute_Rate</th>\n",
       "      <td>950.0</td>\n",
       "      <td>0.292916</td>\n",
       "      <td>0.115592</td>\n",
       "      <td>0.1000</td>\n",
       "      <td>0.19000</td>\n",
       "      <td>0.2900</td>\n",
       "      <td>0.39000</td>\n",
       "      <td>0.500000</td>\n",
       "    </tr>\n",
       "    <tr>\n",
       "      <th>Trip_Duration_Minutes</th>\n",
       "      <td>950.0</td>\n",
       "      <td>62.118116</td>\n",
       "      <td>32.154406</td>\n",
       "      <td>5.0100</td>\n",
       "      <td>35.88250</td>\n",
       "      <td>61.8600</td>\n",
       "      <td>89.05500</td>\n",
       "      <td>119.840000</td>\n",
       "    </tr>\n",
       "    <tr>\n",
       "      <th>Trip_Price</th>\n",
       "      <td>951.0</td>\n",
       "      <td>56.874773</td>\n",
       "      <td>40.469791</td>\n",
       "      <td>6.1269</td>\n",
       "      <td>33.74265</td>\n",
       "      <td>50.0745</td>\n",
       "      <td>69.09935</td>\n",
       "      <td>332.043689</td>\n",
       "    </tr>\n",
       "  </tbody>\n",
       "</table>\n",
       "</div>"
      ],
      "text/plain": [
       "                       count       mean        std     min       25%      50%  \\\n",
       "Trip_Distance_km       950.0  27.070547  19.905300  1.2300  12.63250  25.8300   \n",
       "Passenger_Count        950.0   2.476842   1.102249  1.0000   1.25000   2.0000   \n",
       "Base_Fare              950.0   3.502989   0.870162  2.0100   2.73000   3.5200   \n",
       "Per_Km_Rate            950.0   1.233316   0.429816  0.5000   0.86000   1.2200   \n",
       "Per_Minute_Rate        950.0   0.292916   0.115592  0.1000   0.19000   0.2900   \n",
       "Trip_Duration_Minutes  950.0  62.118116  32.154406  5.0100  35.88250  61.8600   \n",
       "Trip_Price             951.0  56.874773  40.469791  6.1269  33.74265  50.0745   \n",
       "\n",
       "                            75%         max  \n",
       "Trip_Distance_km       38.40500  146.067047  \n",
       "Passenger_Count         3.00000    4.000000  \n",
       "Base_Fare               4.26000    5.000000  \n",
       "Per_Km_Rate             1.61000    2.000000  \n",
       "Per_Minute_Rate         0.39000    0.500000  \n",
       "Trip_Duration_Minutes  89.05500  119.840000  \n",
       "Trip_Price             69.09935  332.043689  "
      ]
     },
     "execution_count": 33,
     "metadata": {},
     "output_type": "execute_result"
    }
   ],
   "source": [
    "df_original.describe().T"
   ]
  },
  {
   "cell_type": "code",
   "execution_count": 34,
   "id": "f1c771c6",
   "metadata": {},
   "outputs": [
    {
     "name": "stdout",
     "output_type": "stream",
     "text": [
      "<class 'pandas.core.frame.DataFrame'>\n",
      "RangeIndex: 1000 entries, 0 to 999\n",
      "Data columns (total 11 columns):\n",
      " #   Column                 Non-Null Count  Dtype  \n",
      "---  ------                 --------------  -----  \n",
      " 0   Trip_Distance_km       950 non-null    float64\n",
      " 1   Time_of_Day            950 non-null    object \n",
      " 2   Day_of_Week            950 non-null    object \n",
      " 3   Passenger_Count        950 non-null    float64\n",
      " 4   Traffic_Conditions     950 non-null    object \n",
      " 5   Weather                950 non-null    object \n",
      " 6   Base_Fare              950 non-null    float64\n",
      " 7   Per_Km_Rate            950 non-null    float64\n",
      " 8   Per_Minute_Rate        950 non-null    float64\n",
      " 9   Trip_Duration_Minutes  950 non-null    float64\n",
      " 10  Trip_Price             951 non-null    float64\n",
      "dtypes: float64(7), object(4)\n",
      "memory usage: 86.1+ KB\n"
     ]
    }
   ],
   "source": [
    "df_original.info()"
   ]
  },
  {
   "cell_type": "code",
   "execution_count": 35,
   "id": "f0e3bb14",
   "metadata": {},
   "outputs": [
    {
     "data": {
      "text/html": [
       "<div>\n",
       "<style scoped>\n",
       "    .dataframe tbody tr th:only-of-type {\n",
       "        vertical-align: middle;\n",
       "    }\n",
       "\n",
       "    .dataframe tbody tr th {\n",
       "        vertical-align: top;\n",
       "    }\n",
       "\n",
       "    .dataframe thead th {\n",
       "        text-align: right;\n",
       "    }\n",
       "</style>\n",
       "<table border=\"1\" class=\"dataframe\">\n",
       "  <thead>\n",
       "    <tr style=\"text-align: right;\">\n",
       "      <th></th>\n",
       "      <th>count</th>\n",
       "      <th>mean</th>\n",
       "      <th>std</th>\n",
       "      <th>min</th>\n",
       "      <th>25%</th>\n",
       "      <th>50%</th>\n",
       "      <th>75%</th>\n",
       "      <th>max</th>\n",
       "    </tr>\n",
       "  </thead>\n",
       "  <tbody>\n",
       "    <tr>\n",
       "      <th>Trip_Distance_km</th>\n",
       "      <td>50.0</td>\n",
       "      <td>-0.062027</td>\n",
       "      <td>-0.502639</td>\n",
       "      <td>0.0</td>\n",
       "      <td>0.4750</td>\n",
       "      <td>0.000000</td>\n",
       "      <td>-0.6225</td>\n",
       "      <td>0.0</td>\n",
       "    </tr>\n",
       "    <tr>\n",
       "      <th>Passenger_Count</th>\n",
       "      <td>50.0</td>\n",
       "      <td>-0.023842</td>\n",
       "      <td>-0.022918</td>\n",
       "      <td>0.0</td>\n",
       "      <td>0.7500</td>\n",
       "      <td>0.000000</td>\n",
       "      <td>0.0000</td>\n",
       "      <td>0.0</td>\n",
       "    </tr>\n",
       "    <tr>\n",
       "      <th>Base_Fare</th>\n",
       "      <td>50.0</td>\n",
       "      <td>0.000000</td>\n",
       "      <td>-0.022055</td>\n",
       "      <td>0.0</td>\n",
       "      <td>0.0400</td>\n",
       "      <td>-0.017011</td>\n",
       "      <td>-0.0575</td>\n",
       "      <td>0.0</td>\n",
       "    </tr>\n",
       "    <tr>\n",
       "      <th>Per_Km_Rate</th>\n",
       "      <td>50.0</td>\n",
       "      <td>-0.000666</td>\n",
       "      <td>-0.010884</td>\n",
       "      <td>0.0</td>\n",
       "      <td>0.0100</td>\n",
       "      <td>0.000000</td>\n",
       "      <td>-0.0300</td>\n",
       "      <td>0.0</td>\n",
       "    </tr>\n",
       "    <tr>\n",
       "      <th>Per_Minute_Rate</th>\n",
       "      <td>50.0</td>\n",
       "      <td>0.000000</td>\n",
       "      <td>-0.002930</td>\n",
       "      <td>0.0</td>\n",
       "      <td>0.0075</td>\n",
       "      <td>0.002916</td>\n",
       "      <td>-0.0075</td>\n",
       "      <td>0.0</td>\n",
       "    </tr>\n",
       "    <tr>\n",
       "      <th>Trip_Duration_Minutes</th>\n",
       "      <td>50.0</td>\n",
       "      <td>-0.012906</td>\n",
       "      <td>-0.814943</td>\n",
       "      <td>0.0</td>\n",
       "      <td>1.2250</td>\n",
       "      <td>0.000000</td>\n",
       "      <td>-1.2800</td>\n",
       "      <td>0.0</td>\n",
       "    </tr>\n",
       "    <tr>\n",
       "      <th>Trip_Price</th>\n",
       "      <td>0.0</td>\n",
       "      <td>0.000000</td>\n",
       "      <td>0.000000</td>\n",
       "      <td>0.0</td>\n",
       "      <td>0.0000</td>\n",
       "      <td>0.000000</td>\n",
       "      <td>0.0000</td>\n",
       "      <td>0.0</td>\n",
       "    </tr>\n",
       "  </tbody>\n",
       "</table>\n",
       "</div>"
      ],
      "text/plain": [
       "                       count      mean       std  min     25%       50%  \\\n",
       "Trip_Distance_km        50.0 -0.062027 -0.502639  0.0  0.4750  0.000000   \n",
       "Passenger_Count         50.0 -0.023842 -0.022918  0.0  0.7500  0.000000   \n",
       "Base_Fare               50.0  0.000000 -0.022055  0.0  0.0400 -0.017011   \n",
       "Per_Km_Rate             50.0 -0.000666 -0.010884  0.0  0.0100  0.000000   \n",
       "Per_Minute_Rate         50.0  0.000000 -0.002930  0.0  0.0075  0.002916   \n",
       "Trip_Duration_Minutes   50.0 -0.012906 -0.814943  0.0  1.2250  0.000000   \n",
       "Trip_Price               0.0  0.000000  0.000000  0.0  0.0000  0.000000   \n",
       "\n",
       "                          75%  max  \n",
       "Trip_Distance_km      -0.6225  0.0  \n",
       "Passenger_Count        0.0000  0.0  \n",
       "Base_Fare             -0.0575  0.0  \n",
       "Per_Km_Rate           -0.0300  0.0  \n",
       "Per_Minute_Rate       -0.0075  0.0  \n",
       "Trip_Duration_Minutes -1.2800  0.0  \n",
       "Trip_Price             0.0000  0.0  "
      ]
     },
     "execution_count": 35,
     "metadata": {},
     "output_type": "execute_result"
    }
   ],
   "source": [
    "df = df_original.copy()\n",
    "int_columns = ['Trip_Distance_km', 'Passenger_Count', 'Base_Fare', 'Per_Km_Rate','Per_Minute_Rate', 'Trip_Duration_Minutes']\n",
    "\n",
    "for col in int_columns:\n",
    "    if col == \"Trip_Duration_Minutes\" or col == \"Per_Km_Rate\" or col == \"Trip_Distance_km\" or col == \"Passenger_Count\": \n",
    "        df[col] = df[col].fillna(df[col].median())\n",
    "    else:\n",
    "        df[col] = df[col].fillna(df[col].mean())\n",
    "df[\"Time_of_Day\"] = df[\"Time_of_Day\"].fillna(\"Afternoon\")\n",
    "df[\"Day_of_Week\"] = df[\"Day_of_Week\"].fillna(\"Weekday\")\n",
    "df[\"Traffic_Conditions\"] = df[\"Traffic_Conditions\"].fillna(\"Low\") #stor öking, 363 mot 412!  \n",
    "df[\"Weather\"] = df[\"Weather\"].fillna(\"Clear\")\n",
    "df.describe().T - df_original.describe().T"
   ]
  },
  {
   "cell_type": "code",
   "execution_count": 36,
   "id": "be076c3c",
   "metadata": {},
   "outputs": [
    {
     "data": {
      "text/plain": [
       "(951, 49)"
      ]
     },
     "execution_count": 36,
     "metadata": {},
     "output_type": "execute_result"
    }
   ],
   "source": [
    "df_target = df[df[\"Trip_Price\"].isna()]\n",
    "df = df[df[\"Trip_Price\"].notna()]\n",
    "len(df), len(df_target)"
   ]
  },
  {
   "cell_type": "code",
   "execution_count": 37,
   "id": "24cd65d7",
   "metadata": {},
   "outputs": [
    {
     "name": "stdout",
     "output_type": "stream",
     "text": [
      "13.129999999999999 37.83\n"
     ]
    }
   ],
   "source": [
    "Q1, Q3 = df[\"Trip_Distance_km\"].quantile(0.25), df[\"Trip_Distance_km\"].quantile(0.75)\n",
    "IQR = Q3 - Q1\n",
    "\n",
    "lower_bound = Q1 - (1.5 * IQR)\n",
    "upper_bound = Q3 + (1.5 * IQR)\n",
    "\n",
    "print(Q1, Q3)\n",
    "\n",
    "df = df[(df[\"Trip_Distance_km\"] >= lower_bound) & (df[\"Trip_Distance_km\"] <= upper_bound)]\n"
   ]
  },
  {
   "cell_type": "code",
   "execution_count": 38,
   "id": "a316e585",
   "metadata": {},
   "outputs": [
    {
     "name": "stdout",
     "output_type": "stream",
     "text": [
      "33.3907 67.0695\n"
     ]
    }
   ],
   "source": [
    "Q1, Q3 = df[\"Trip_Price\"].quantile(0.25), df[\"Trip_Price\"].quantile(0.75)\n",
    "# Q1, Q3 = 33.39, 67.06\n",
    "IQR = Q3 - Q1\n",
    "lower_bound = Q1 - (1.5 * IQR)\n",
    "upper_bound = Q3 + (1.5 * IQR)\n",
    "print(Q1, Q3)\n",
    "\n",
    "df = df[(df[\"Trip_Price\"] >= lower_bound) & (df[\"Trip_Price\"] <= upper_bound)]"
   ]
  },
  {
   "cell_type": "code",
   "execution_count": 39,
   "id": "b9bf539c",
   "metadata": {},
   "outputs": [
    {
     "data": {
      "image/png": "[encoded data removed]",
      "text/plain": [
       "<Figure size 1600x600 with 1 Axes>"
      ]
     },
     "metadata": {},
     "output_type": "display_data"
    }
   ],
   "source": [
    "import seaborn as sns\n",
    "import matplotlib.pyplot as plt\n",
    "fig, ax = plt.subplots(figsize=(16,6))\n",
    "sns.boxplot(data=df, ax=ax)\n",
    "ax.set_title(\"Boxplot cleaned dataset, without outliers\");"
   ]
  },
  {
   "cell_type": "code",
   "execution_count": 40,
   "id": "99229429",
   "metadata": {},
   "outputs": [
    {
     "data": {
      "text/plain": [
       "(923, 49)"
      ]
     },
     "execution_count": 40,
     "metadata": {},
     "output_type": "execute_result"
    }
   ],
   "source": [
    "len(df), len(df_target)\n"
   ]
  },
  {
   "cell_type": "code",
   "execution_count": 41,
   "id": "25ef7d41",
   "metadata": {},
   "outputs": [
    {
     "name": "stdout",
     "output_type": "stream",
     "text": [
      "<class 'pandas.core.frame.DataFrame'>\n",
      "Index: 923 entries, 0 to 999\n",
      "Data columns (total 11 columns):\n",
      " #   Column                 Non-Null Count  Dtype  \n",
      "---  ------                 --------------  -----  \n",
      " 0   Trip_Distance_km       923 non-null    float64\n",
      " 1   Time_of_Day            923 non-null    object \n",
      " 2   Day_of_Week            923 non-null    object \n",
      " 3   Passenger_Count        923 non-null    float64\n",
      " 4   Traffic_Conditions     923 non-null    object \n",
      " 5   Weather                923 non-null    object \n",
      " 6   Base_Fare              923 non-null    float64\n",
      " 7   Per_Km_Rate            923 non-null    float64\n",
      " 8   Per_Minute_Rate        923 non-null    float64\n",
      " 9   Trip_Duration_Minutes  923 non-null    float64\n",
      " 10  Trip_Price             923 non-null    float64\n",
      "dtypes: float64(7), object(4)\n",
      "memory usage: 86.5+ KB\n"
     ]
    }
   ],
   "source": [
    "df.info()"
   ]
  },
  {
   "cell_type": "code",
   "execution_count": 42,
   "id": "5bf86662",
   "metadata": {},
   "outputs": [
    {
     "data": {
      "text/plain": [
       "<Axes: xlabel='Weather'>"
      ]
     },
     "execution_count": 42,
     "metadata": {},
     "output_type": "execute_result"
    },
    {
     "data": {
      "image/png": "[encoded data removed]",
      "text/plain": [
       "<Figure size 640x480 with 1 Axes>"
      ]
     },
     "metadata": {},
     "output_type": "display_data"
    }
   ],
   "source": [
    "import seaborn as sns\n",
    "to_plot = df.groupby(\"Weather\")[[\"Trip_Distance_km\", \"Trip_Price\", \"Per_Km_Rate\"]].median()\n",
    "sns.lineplot(to_plot)"
   ]
  },
  {
   "cell_type": "code",
   "execution_count": 43,
   "id": "d3adb53e",
   "metadata": {},
   "outputs": [
    {
     "data": {
      "text/plain": [
       "<Axes: xlabel='Day_of_Week'>"
      ]
     },
     "execution_count": 43,
     "metadata": {},
     "output_type": "execute_result"
    },
    {
     "data": {
      "image/png": "[encoded data removed]",
      "text/plain": [
       "<Figure size 640x480 with 1 Axes>"
      ]
     },
     "metadata": {},
     "output_type": "display_data"
    }
   ],
   "source": [
    "to_plot = df_original.groupby(\"Day_of_Week\")[[\"Trip_Distance_km\", \"Trip_Price\",\"Per_Km_Rate\"]].median()\n",
    "sns.lineplot(to_plot)"
   ]
  },
  {
   "cell_type": "code",
   "execution_count": 47,
   "id": "75f604ec",
   "metadata": {},
   "outputs": [
    {
     "data": {
      "text/plain": [
       "<Axes: xlabel='Traffic_Conditions'>"
      ]
     },
     "execution_count": 47,
     "metadata": {},
     "output_type": "execute_result"
    },
    {
     "data": {
      "image/png": "[encoded data removed]",
      "text/plain": [
       "<Figure size 640x480 with 1 Axes>"
      ]
     },
     "metadata": {},
     "output_type": "display_data"
    }
   ],
   "source": [
    "to_plot = df_original.groupby(\"Traffic_Conditions\")[[\"Trip_Distance_km\", \"Trip_Price\",\"Per_Km_Rate\"]].median()\n",
    "sns.lineplot(to_plot)"
   ]
  }
 ],
 "metadata": {
  "kernelspec": {
   "display_name": "taxi-prediction-fullstack-Natali (3.12.8)",
   "language": "python",
   "name": "python3"
  },
  "language_info": {
   "codemirror_mode": {
    "name": "ipython",
    "version": 3
   },
   "file_extension": ".py",
   "mimetype": "text/x-python",
   "name": "python",
   "nbconvert_exporter": "python",
   "pygments_lexer": "ipython3",
   "version": "3.12.8"
  }
 },
 "nbformat": 4,
 "nbformat_minor": 5
}
