{
 "cells": [
  {
   "cell_type": "code",
   "execution_count": 46,
   "id": "a925ef25",
   "metadata": {},
   "outputs": [],
   "source": [
    "from dotenv import load_dotenv\n",
    "import os\n",
    "load_dotenv()\n",
    "API_KEY = os.getenv(\"google_api\")"
   ]
  },
  {
   "cell_type": "code",
   "execution_count": 47,
   "id": "fc0caa60",
   "metadata": {},
   "outputs": [
    {
     "data": {
      "text/plain": [
       "1759761475"
      ]
     },
     "execution_count": 47,
     "metadata": {},
     "output_type": "execute_result"
    }
   ],
   "source": [
    "import datetime\n",
    "\n",
    "now = int(datetime.datetime.now().timestamp())\n",
    "now\n",
    "# unix_now = int(now.timestamp())\n",
    "# unix_now"
   ]
  },
  {
   "cell_type": "code",
   "execution_count": 48,
   "id": "64f2cdf3",
   "metadata": {},
   "outputs": [],
   "source": [
    "import requests\n",
    "\n",
    "pickup = \"Liseberg, Göteborg\"\n",
    "# dropoff = \"Göteborgs Centralstation\"\n",
    "# pickup = \"Östanvindsgatan 4B Göteborg\"\n",
    "dropoff = \"Östanvindsgatan göteborg\"\n",
    "url = (\n",
    "    \"https://maps.googleapis.com/maps/api/directions/json?\"\n",
    "    f\"origin={pickup}&destination={dropoff}&mode=driving&key={API_KEY}&departure_time=now\"\n",
    ")\n",
    "\n",
    "response = requests.get(url).json()"
   ]
  },
  {
   "cell_type": "code",
   "execution_count": 62,
   "id": "0ab2e6df",
   "metadata": {},
   "outputs": [
    {
     "data": {
      "text/plain": [
       "{'geocoded_waypoints': [{'geocoder_status': 'OK',\n",
       "   'place_id': 'ChIJgejW6p7zT0YRT0iKc6ej8Bg',\n",
       "   'types': ['amusement_park',\n",
       "    'establishment',\n",
       "    'park',\n",
       "    'point_of_interest',\n",
       "    'tourist_attraction']},\n",
       "  {'geocoder_status': 'OK',\n",
       "   'place_id': 'ChIJGaFoQqv0T0YRCxIZ2XC8MhI',\n",
       "   'types': ['route']}],\n",
       " 'routes': [{'bounds': {'northeast': {'lat': 57.72296790000001,\n",
       "     'lng': 11.9972396},\n",
       "    'southwest': {'lat': 57.69195279999999, 'lng': 11.9291076}},\n",
       "   'copyrights': 'Powered by Google, ©2025 Google',\n",
       "   'legs': [{'distance': {'text': '8.3 km', 'value': 8278},\n",
       "     'duration': {'text': '15 mins', 'value': 919},\n",
       "     'duration_in_traffic': {'text': '17 mins', 'value': 1041},\n",
       "     'end_address': 'Östanvindsgatan, 417 17 Göteborg, Sweden',\n",
       "     'end_location': {'lat': 57.72296790000001, 'lng': 11.9291076},\n",
       "     'start_address': 'Liseberg, Örgrytevägen 5, 402 22 Göteborg, Sweden',\n",
       "     'start_location': {'lat': 57.69195279999999, 'lng': 11.9936676},\n",
       "     'steps': [{'distance': {'text': '87 m', 'value': 87},\n",
       "       'duration': {'text': '1 min', 'value': 21},\n",
       "       'end_location': {'lat': 57.6921816, 'lng': 11.9950672},\n",
       "       'html_instructions': 'Head <b>east</b> on <b>Getebergsled</b> toward <b>Lisebergsgatan</b>/<wbr/><b>Nellickevägen</b>',\n",
       "       'polyline': {'points': 'u}b_JmoehACQY_DC]E]Ei@'},\n",
       "       'start_location': {'lat': 57.69195279999999, 'lng': 11.9936676},\n",
       "       'travel_mode': 'DRIVING'},\n",
       "      {'distance': {'text': '0.2 km', 'value': 187},\n",
       "       'duration': {'text': '1 min', 'value': 61},\n",
       "       'end_location': {'lat': 57.692894, 'lng': 11.9971509},\n",
       "       'html_instructions': 'Turn <b>left</b> onto <b>Lisebergsgatan</b>/<wbr/><b>Nellickevägen</b><div style=\"font-size:0.9em\">Continue to follow Nellickevägen</div>',\n",
       "       'maneuver': 'turn-left',\n",
       "       'polyline': {'points': 'c_c_JexehAgAPKBGAECCGAC?MCY?IC}@EgA?ACaAEs@ASK_B'},\n",
       "       'start_location': {'lat': 57.6921816, 'lng': 11.9950672},\n",
       "       'travel_mode': 'DRIVING'},\n",
       "      {'distance': {'text': '0.5 km', 'value': 530},\n",
       "       'duration': {'text': '2 mins', 'value': 105},\n",
       "       'end_location': {'lat': 57.6974875, 'lng': 11.9951156},\n",
       "       'html_instructions': 'Turn <b>left</b> onto <b>Sofierogatan</b>',\n",
       "       'maneuver': 'turn-left',\n",
       "       'polyline': {'points': 'qcc_JeefhA_@BG@IBWDA?_@HIBQDG@c@Ha@JkAVc@LeAXa@L}@TqATm@JWNE@s@|@_@f@YBQDMHYXi@Zi@LQB'},\n",
       "       'start_location': {'lat': 57.692894, 'lng': 11.9971509},\n",
       "       'travel_mode': 'DRIVING'},\n",
       "      {'distance': {'text': '76 m', 'value': 76},\n",
       "       'duration': {'text': '1 min', 'value': 17},\n",
       "       'end_location': {'lat': 57.6975982, 'lng': 11.9963763},\n",
       "       'html_instructions': 'Turn <b>right</b> onto <b>Örgrytevägen</b>',\n",
       "       'maneuver': 'turn-right',\n",
       "       'polyline': {'points': 'i`d_JoxehAAm@AQ?IAQAY?AAGCm@?EAEEaA'},\n",
       "       'start_location': {'lat': 57.6974875, 'lng': 11.9951156},\n",
       "       'travel_mode': 'DRIVING'},\n",
       "      {'distance': {'text': '2.4 km', 'value': 2424},\n",
       "       'duration': {'text': '3 mins', 'value': 155},\n",
       "       'end_location': {'lat': 57.71828199999999, 'lng': 11.9921174},\n",
       "       'html_instructions': 'Turn <b>left</b> to merge onto <b>E20</b>/<wbr/><b>E6</b> toward <b>Oslo</b>/<wbr/><b>E45</b><div style=\"font-size:0.9em\">Continue to follow E6</div>',\n",
       "       'maneuver': 'ramp-left',\n",
       "       'polyline': {'points': '_ad_Jk`fhAKYEIKMGGIAE@E@CBKJKLMLY^INAFADADCJ?BAFCLABEJEJEHGFGDGBIDC@E@E@I@GBI@SZgAHc@BgAHmAHa@DU@GASBI@]BE@c@BE?WBk@DeAHw@Dg@DO?K@O?O?WAYA_@CWEc@GOCOC_BYc@IIAYEi@Kk@Gk@Iu@Oi@GAA_@Ge@IYGICUG]I]IKE}@QKCq@OUEOCa@IOCOECAWEa@KE?KCSIeBa@A?IGaBa@o@Oy@Sm@Oc@K[GA?WEOCWCWAQ?S@A?U@QBC@SDSFQHUJQLULMHGFEDA@QTGHKPCDQXOZMVOXIRq@xAKNGJCDCBKNEFMLEDIFa@X?@GBGBC@IBKDOBKBK@G@C?A?E?G?A?WAUAICIAcAKA?UAUAE?M@OBI@E@G@UHi@ZGFUP]Z}@z@CBQPOLIHIDIHSNMJYR_@TSJm@\\\\UNk@ZUNYPMJc@Za@ZKHWTOL'},\n",
       "       'start_location': {'lat': 57.6975982, 'lng': 11.9963763},\n",
       "       'travel_mode': 'DRIVING'},\n",
       "      {'distance': {'text': '1.3 km', 'value': 1253},\n",
       "       'duration': {'text': '1 min', 'value': 79},\n",
       "       'end_location': {'lat': 57.7151946, 'lng': 11.9783992},\n",
       "       'html_instructions': 'Take the exit onto <b>E45</b> toward <b>Centrum</b>',\n",
       "       'maneuver': 'ramp-right',\n",
       "       'polyline': {'points': 'gbh_JweehAIGGFQLKJA@GBAB_@XA@MJs@l@QLCBIDEBC@GBE@G@E@QBIGC?MGAAIGGGEGGMCICKAEAGCOCM?IAK?I@I?E@G?GBI@IBG@EDEFGFCD?DAF?DBD@HHDD?@DDDFBHBBDP@BHVJ\\\\Lh@H^Jn@Fh@BTFj@B^@VDr@?DFrA?JBV@ZD^D\\\\@JBRHd@Jd@Jd@HXH\\\\Pz@H`@N~@^rALj@rBlLh@zBx@dDZjA?@@@PJd@jBDN@FPn@@HFTDPHZBD?@Lh@HZRt@Rv@Nj@b@bBJ`@J^Lb@J^l@nB'},\n",
       "       'start_location': {'lat': 57.71828199999999, 'lng': 11.9921174},\n",
       "       'travel_mode': 'DRIVING'},\n",
       "      {'distance': {'text': '0.3 km', 'value': 257},\n",
       "       'duration': {'text': '1 min', 'value': 23},\n",
       "       'end_location': {'lat': 57.71402409999999, 'lng': 11.9747107},\n",
       "       'html_instructions': 'Take the exit toward <b>Mårten Krakowgatan</b>',\n",
       "       'maneuver': 'ramp-right',\n",
       "       'polyline': {'points': '}ng_J_pbhAA`@b@dBb@jBLl@R`An@hCFVd@pBJ^VhA'},\n",
       "       'start_location': {'lat': 57.7151946, 'lng': 11.9783992},\n",
       "       'travel_mode': 'DRIVING'},\n",
       "      {'distance': {'text': '0.2 km', 'value': 241},\n",
       "       'duration': {'text': '1 min', 'value': 38},\n",
       "       'end_location': {'lat': 57.7128001, 'lng': 11.9713938},\n",
       "       'html_instructions': 'Continue onto <b>Mårten Krakowgatan</b>',\n",
       "       'polyline': {'points': 'sgg_J}xahAJlAFd@V`Af@rBRr@BJPh@?@j@vA\\\\~@^hAJ^'},\n",
       "       'start_location': {'lat': 57.71402409999999, 'lng': 11.9747107},\n",
       "       'travel_mode': 'DRIVING'},\n",
       "      {'distance': {'text': '0.9 km', 'value': 925},\n",
       "       'duration': {'text': '1 min', 'value': 73},\n",
       "       'end_location': {'lat': 57.71958219999999, 'lng': 11.9629813},\n",
       "       'html_instructions': 'Turn <b>right</b> onto <b>Hisingsbron</b>',\n",
       "       'maneuver': 'turn-right',\n",
       "       'polyline': {'points': '_`g_JedahA?PAJ@R?J?J?HAF?DAJEZy@fAgAzAMRMP]b@]d@W\\\\]`@A@[`@OROV?@KNOVA?[h@[d@ORMP]d@?@]d@MN?@[b@QTKPORMPOR?@MNMRA@KPm@x@?@[d@A??@[d@[d@A@[d@]f@]d@W\\\\q@z@]d@GHIJUR_@Z_@\\\\eAd@WLc@Ta@TqAx@'},\n",
       "       'start_location': {'lat': 57.7128001, 'lng': 11.9713938},\n",
       "       'travel_mode': 'DRIVING'},\n",
       "      {'distance': {'text': '1.7 km', 'value': 1741},\n",
       "       'duration': {'text': '4 mins', 'value': 217},\n",
       "       'end_location': {'lat': 57.7208145, 'lng': 11.9345457},\n",
       "       'html_instructions': 'Slight <b>left</b> onto <b>Hjalmar Brantingsgatan</b><div style=\"font-size:0.9em\">Toll road</div>',\n",
       "       'maneuver': 'turn-slight-left',\n",
       "       'polyline': {'points': 'kjh_Jso_hAw@xAIRa@dAYz@AFMl@CTKj@Gj@AJ?B?BAB?BAH?b@Cv@Cl@A^?XAlA@nBEjD?~@?b@EdE?P@NDj@Lh@BRBZB`AHhEB~@B|A?tBCj@?JCv@Ch@_@vD[vCG\\\\ERGd@KN?p@@tA?h@?D?B@dD?b@BzB@~A?`A?bA?ZBbD?j@?t@An@AnA?n@AdC?~@?nC?H?VElECnE?^AbAAh@?X?DAb@?V?bAAxBAnA?x@AJ?~@AbAEbE@n@?D@PBR@JHx@BP'},\n",
       "       'start_location': {'lat': 57.71958219999999, 'lng': 11.9629813},\n",
       "       'travel_mode': 'DRIVING'},\n",
       "      {'distance': {'text': '0.1 km', 'value': 137},\n",
       "       'duration': {'text': '1 min', 'value': 39},\n",
       "       'end_location': {'lat': 57.7220477, 'lng': 11.9345965},\n",
       "       'html_instructions': 'Turn <b>right</b> onto <b>Wieselgrensplatsen</b>',\n",
       "       'maneuver': 'turn-right',\n",
       "       'polyline': {'points': 'arh_J}}ygAM?e@@UAOAiAEsAA'},\n",
       "       'start_location': {'lat': 57.7208145, 'lng': 11.9345457},\n",
       "       'travel_mode': 'DRIVING'},\n",
       "      {'distance': {'text': '92 m', 'value': 92},\n",
       "       'duration': {'text': '1 min', 'value': 24},\n",
       "       'end_location': {'lat': 57.7220747, 'lng': 11.9330409},\n",
       "       'html_instructions': 'Turn <b>left</b> onto <b>Långängen</b>',\n",
       "       'maneuver': 'turn-left',\n",
       "       'polyline': {'points': 'yyh_Jg~ygA?X?J?NA\\\\AbF'},\n",
       "       'start_location': {'lat': 57.7220477, 'lng': 11.9345965},\n",
       "       'travel_mode': 'DRIVING'},\n",
       "      {'distance': {'text': '90 m', 'value': 90},\n",
       "       'duration': {'text': '1 min', 'value': 17},\n",
       "       'end_location': {'lat': 57.7228819, 'lng': 11.933115},\n",
       "       'html_instructions': 'Turn <b>right</b> onto <b>Nordanvindsgatan</b>',\n",
       "       'maneuver': 'turn-right',\n",
       "       'polyline': {'points': '}yh_JotygA_@EC?i@AsAG'},\n",
       "       'start_location': {'lat': 57.7220747, 'lng': 11.9330409},\n",
       "       'travel_mode': 'DRIVING'},\n",
       "      {'distance': {'text': '0.2 km', 'value': 238},\n",
       "       'duration': {'text': '1 min', 'value': 50},\n",
       "       'end_location': {'lat': 57.72296790000001, 'lng': 11.9291076},\n",
       "       'html_instructions': 'Turn <b>left</b> onto <b>Östanvindsgatan</b>',\n",
       "       'maneuver': 'turn-left',\n",
       "       'polyline': {'points': '__i_J_uygAQ`X'},\n",
       "       'start_location': {'lat': 57.7228819, 'lng': 11.933115},\n",
       "       'travel_mode': 'DRIVING'}],\n",
       "     'traffic_speed_entry': [],\n",
       "     'via_waypoint': []}],\n",
       "   'overview_polyline': {'points': 'u}b_JmoehAg@mFEi@gAPS@IKEu@MiEGgAK_B_@BG@a@Hk@L_B\\\\oBd@gBf@}@TqATm@JWNy@~@_@f@YBQDg@b@i@Zi@LQBAm@A[AQGqAAKEaAKYQWQIKBONYZc@n@I^G\\\\KVMP]P]HI@SZgAHkBLoBN]?]DmAHaEXsAFg@Ay@E{AUgDk@wDm@qB[kEcAuDu@gAYgBa@IGaBa@iBc@qA[eAQaAE}@F}@XkAp@a@d@i@z@w@`B}@hBKPc@h@q@h@]Ls@NS@w@CyAQ_AAg@H_Ad@]XqBlBm@f@a@Zy@h@cCtAaBhAuAhAIGg@b@cCnB[Ne@H]QQOMUKc@Is@Ba@Hc@FKNKRAJDNNNXTp@n@vCVjCNdDJ~ATbBj@bCZ|AN~@^rA`CxMbB`HZlARLl@bC`@`B|AbGhAhEx@nCA`@b@dBp@xCbAjEpArFRrB~@tDh@jBhAvCj@hB?|@Ab@Gf@aCbDwAnBsAbBuBdD}E|GqGjJaBvBu@n@_@\\\\eAd@{@b@sBnAaAlB{@`COt@O`AI~@MzDAfB@nBEjD?bBEvEFz@P|@F|ALhGBrECv@Cv@c@`Fc@tDMx@KN?p@@~B@rED`JB`HEtH?pFK`OGrKChECrF@VRjByAA}CG?d@Al@AbF_@Em@AsAGQ`X'},\n",
       "   'summary': 'E6',\n",
       "   'warnings': [],\n",
       "   'waypoint_order': []}],\n",
       " 'status': 'OK'}"
      ]
     },
     "execution_count": 62,
     "metadata": {},
     "output_type": "execute_result"
    }
   ],
   "source": [
    "# finns: \n",
    "# avoid - tolls, ferries osv, indoor = returnerar bara avstånd som bilen kan åka \n",
    "# mode = driving, walking, bicycling, transit\n",
    "data = response\n",
    "data\n"
   ]
  },
  {
   "cell_type": "code",
   "execution_count": 50,
   "id": "2a332624",
   "metadata": {},
   "outputs": [
    {
     "data": {
      "text/plain": [
       "{'text': '8.3 km', 'value': 8278}"
      ]
     },
     "execution_count": 50,
     "metadata": {},
     "output_type": "execute_result"
    }
   ],
   "source": [
    "distance = data[\"routes\"][0][\"legs\"][0][\"distance\"]\n",
    "distance"
   ]
  },
  {
   "cell_type": "code",
   "execution_count": 51,
   "id": "a13cb947",
   "metadata": {},
   "outputs": [
    {
     "data": {
      "text/plain": [
       "{'text': '15 mins', 'value': 919}"
      ]
     },
     "execution_count": 51,
     "metadata": {},
     "output_type": "execute_result"
    }
   ],
   "source": [
    "duration = data[\"routes\"][0][\"legs\"][0][\"duration\"]\n",
    "duration"
   ]
  },
  {
   "cell_type": "code",
   "execution_count": 52,
   "id": "c09bb7db",
   "metadata": {},
   "outputs": [
    {
     "data": {
      "text/plain": [
       "{'text': '17 mins', 'value': 1041}"
      ]
     },
     "execution_count": 52,
     "metadata": {},
     "output_type": "execute_result"
    }
   ],
   "source": [
    "data[\"routes\"][0][\"legs\"][0][\"duration_in_traffic\"]"
   ]
  },
  {
   "cell_type": "code",
   "execution_count": 53,
   "id": "3a67194f",
   "metadata": {},
   "outputs": [
    {
     "data": {
      "text/plain": [
       "(8.278, 15.316666666666666)"
      ]
     },
     "execution_count": 53,
     "metadata": {},
     "output_type": "execute_result"
    }
   ],
   "source": [
    "distance[\"value\"] / 1000, duration[\"value\"] / 60\n",
    "# distans i km, tid i minuter "
   ]
  },
  {
   "cell_type": "code",
   "execution_count": null,
   "id": "356bcebd",
   "metadata": {},
   "outputs": [
    {
     "data": {
      "text/plain": [
       "{'lat': 57.72296790000001, 'lng': 11.9291076}"
      ]
     },
     "execution_count": 61,
     "metadata": {},
     "output_type": "execute_result"
    }
   ],
   "source": [
    "city = data[\"routes\"][0][\"legs\"][0][\"end_location\"]\n",
    "# city.split() #[5].strip(\",\")\n",
    "city\n",
    "# latitude = city[\"lat\"]\n",
    "# latitude"
   ]
  },
  {
   "cell_type": "code",
   "execution_count": 95,
   "id": "0e7eff36",
   "metadata": {},
   "outputs": [
    {
     "name": "stdout",
     "output_type": "stream",
     "text": [
      "Low -2\n"
     ]
    }
   ],
   "source": [
    "duration, duration_in_traffic = data[\"routes\"][0][\"legs\"][0][\"duration\"], data[\"routes\"][0][\"legs\"][0][\"duration_in_traffic\"]\n",
    "diff = round(duration[\"value\"] / 60) - round(duration_in_traffic[\"value\"] / 60)\n",
    "# duration, duration_in_traffic\n",
    "# # Low = Max 1 minut längre \n",
    "# # Medium = Max 5 minuter längre\n",
    "# # High = else\n",
    "diff = -2\n",
    "if diff < 1: \n",
    "    print(\"Low\", diff)\n",
    "elif diff <= 5:\n",
    "    print(\"Medium\", diff)\n",
    "else: \n",
    "    print(\"High\", diff)"
   ]
  },
  {
   "cell_type": "code",
   "execution_count": null,
   "id": "e7f83ad6",
   "metadata": {},
   "outputs": [],
   "source": []
  }
 ],
 "metadata": {
  "kernelspec": {
   "display_name": "taxi-prediction-fullstack-Natali (3.12.8)",
   "language": "python",
   "name": "python3"
  },
  "language_info": {
   "codemirror_mode": {
    "name": "ipython",
    "version": 3
   },
   "file_extension": ".py",
   "mimetype": "text/x-python",
   "name": "python",
   "nbconvert_exporter": "python",
   "pygments_lexer": "ipython3",
   "version": "3.12.8"
  }
 },
 "nbformat": 4,
 "nbformat_minor": 5
}
