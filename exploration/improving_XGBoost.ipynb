{
 "cells": [
  {
   "cell_type": "markdown",
   "id": "a6c92add",
   "metadata": {},
   "source": [
    "## Chosen model: XGBRegressor\n",
    "### finetuning hyperparameters"
   ]
  },
  {
   "cell_type": "code",
   "execution_count": 73,
   "id": "82748269",
   "metadata": {},
   "outputs": [
    {
     "data": {
      "text/html": [
       "<div>\n",
       "<style scoped>\n",
       "    .dataframe tbody tr th:only-of-type {\n",
       "        vertical-align: middle;\n",
       "    }\n",
       "\n",
       "    .dataframe tbody tr th {\n",
       "        vertical-align: top;\n",
       "    }\n",
       "\n",
       "    .dataframe thead th {\n",
       "        text-align: right;\n",
       "    }\n",
       "</style>\n",
       "<table border=\"1\" class=\"dataframe\">\n",
       "  <thead>\n",
       "    <tr style=\"text-align: right;\">\n",
       "      <th></th>\n",
       "      <th>mae</th>\n",
       "      <th>mse</th>\n",
       "      <th>rmse</th>\n",
       "    </tr>\n",
       "  </thead>\n",
       "  <tbody>\n",
       "    <tr>\n",
       "      <th>0</th>\n",
       "      <td>5.051979</td>\n",
       "      <td>48.240022</td>\n",
       "      <td>6.945504</td>\n",
       "    </tr>\n",
       "  </tbody>\n",
       "</table>\n",
       "</div>"
      ],
      "text/plain": [
       "        mae        mse      rmse\n",
       "0  5.051979  48.240022  6.945504"
      ]
     },
     "execution_count": 73,
     "metadata": {},
     "output_type": "execute_result"
    }
   ],
   "source": [
    "from xgboost import XGBRegressor\n",
    "from sklearn.model_selection import train_test_split\n",
    "from sklearn.metrics import mean_absolute_error, mean_squared_error, root_mean_squared_error\n",
    "import pandas as pd\n",
    "\n",
    "df_original = pd.read_csv(\"../src/taxipred/data/cleaned_data.csv\")\n",
    "df_encoded = pd.get_dummies(df_original, drop_first=True)\n",
    "X, y = df_encoded.drop(columns=\"Trip_Price\"), df_encoded[\"Trip_Price\"]\n",
    "model = XGBRegressor()\n",
    "def data_handler(): \n",
    "    \"\"\"-> X_train, X_test, X_val, y_train, y_test, y_val, X_train_full, y_train_full\"\"\"\n",
    "\n",
    "    X_train_full, X_test, y_train_full, y_test = train_test_split(X, y, test_size=0.1, random_state=42) #X_train_full använder du när du utvärderat alla modeller\n",
    "    X_train, X_val, y_train, y_val = train_test_split(X_train_full, y_train_full, test_size=0.11, random_state=42)\n",
    "\n",
    "    return X_train, X_test, X_val, y_train, y_test, y_val, X_train_full, y_train_full#scaled_X_train, scaled_X_test, scaled_X_val, y_train, y_test, y_val\n",
    "\n",
    "def regressor_model(model, data_for_training, y_true_for_training, data_to_predict, y_true):\n",
    "\n",
    "    model.fit(data_for_training, y_true_for_training)\n",
    "    y_pred = model.predict(data_to_predict)\n",
    "\n",
    "    mae = mean_absolute_error(y_true, y_pred)\n",
    "    mse = mean_squared_error(y_true, y_pred)\n",
    "    rmse = root_mean_squared_error(y_true, y_pred)\n",
    "\n",
    "    df_metric = pd.DataFrame([{\"mae\":mae,\"mse\":mse,\"rmse\": rmse}])\n",
    "    # mae, mse, rmse\n",
    "    return df_metric\n",
    "X_train, X_test, X_val, y_train, y_test, y_val,X_train_full, y_train_full = data_handler()\n",
    "regressor_model(model, X_train, y_train,X_val,y_val)"
   ]
  },
  {
   "cell_type": "markdown",
   "id": "a2fb3284",
   "metadata": {},
   "source": [
    "## Evaluate parameters\n",
    "### Evaluate under/overfitting, \n",
    "- check to increase max_depth (if rmse with val is worse = overfitting, if both are bad = underfitting)\n",
    "- check reg_alpha, if underfitting on val-data lower to 0-1"
   ]
  },
  {
   "cell_type": "code",
   "execution_count": 74,
   "id": "3a878f9b",
   "metadata": {},
   "outputs": [
    {
     "data": {
      "text/html": [
       "<div>\n",
       "<style scoped>\n",
       "    .dataframe tbody tr th:only-of-type {\n",
       "        vertical-align: middle;\n",
       "    }\n",
       "\n",
       "    .dataframe tbody tr th {\n",
       "        vertical-align: top;\n",
       "    }\n",
       "\n",
       "    .dataframe thead th {\n",
       "        text-align: right;\n",
       "    }\n",
       "</style>\n",
       "<table border=\"1\" class=\"dataframe\">\n",
       "  <thead>\n",
       "    <tr style=\"text-align: right;\">\n",
       "      <th></th>\n",
       "      <th>mae</th>\n",
       "      <th>mse</th>\n",
       "      <th>rmse</th>\n",
       "    </tr>\n",
       "  </thead>\n",
       "  <tbody>\n",
       "    <tr>\n",
       "      <th>0</th>\n",
       "      <td>3.698067</td>\n",
       "      <td>31.390557</td>\n",
       "      <td>5.602728</td>\n",
       "    </tr>\n",
       "  </tbody>\n",
       "</table>\n",
       "</div>"
      ],
      "text/plain": [
       "        mae        mse      rmse\n",
       "0  3.698067  31.390557  5.602728"
      ]
     },
     "execution_count": 74,
     "metadata": {},
     "output_type": "execute_result"
    }
   ],
   "source": [
    "model = XGBRegressor(\n",
    "    n_estimators=1000, #antal träd som byggs D100\n",
    "    learning_rate=0.02, # Hur mkt varje nytt träd påverkar slutmodellen, lägre värden = stabilare men kräver fler träd. D0.3\n",
    "    max_depth=3, #större värden = risk för overfitting, mindre värden = risk för underfitting D6\n",
    "    min_child_weight=2, #minsta antal observationer för att skapa en ny nod, högre värden = mer konservativ D1\n",
    "    subsample=0.7, # antal rader som används per träd, < 1 ger slump och mindre overfitting. D1\n",
    "    colsample_bytree=0.9, #Andel features som används per träd D1\n",
    "    gamma=0, #minsta förbättring för att göra en split, högre värde = färre splits D0\n",
    "    reg_alpha=4, #L1 regularisering, gör modellen glesare D0\n",
    "    reg_lambda=1, #L2 regularisering, straffar stora koefficienter, stabiliserar D1\n",
    "    random_state=42, \n",
    "    \n",
    ") \n",
    "\n",
    "# objective=\"reg:squarederror\" #Standard för regression.\n",
    "# n_jobs =None, # Kör med alla tillängliga CPU-trådar\n",
    "# colsample_bytree=1.0 # Andel features som används per träd.\n",
    "# colsample_bynode=1.0 # Andel features per split.\n",
    "X_train, X_test, X_val, y_train, y_test, y_val, X_train_full, y_train_full = data_handler()\n",
    "regressor_model(model,X_train, y_train,X_val, y_val) #Bästa 6.21, depth = 3, 5.68, 5.60"
   ]
  },
  {
   "cell_type": "markdown",
   "id": "ca8d08b3",
   "metadata": {},
   "source": [
    "## Final check with X_test, if it looks good, export model"
   ]
  },
  {
   "cell_type": "code",
   "execution_count": 75,
   "id": "dd9e17ca",
   "metadata": {},
   "outputs": [
    {
     "data": {
      "text/html": [
       "<div>\n",
       "<style scoped>\n",
       "    .dataframe tbody tr th:only-of-type {\n",
       "        vertical-align: middle;\n",
       "    }\n",
       "\n",
       "    .dataframe tbody tr th {\n",
       "        vertical-align: top;\n",
       "    }\n",
       "\n",
       "    .dataframe thead th {\n",
       "        text-align: right;\n",
       "    }\n",
       "</style>\n",
       "<table border=\"1\" class=\"dataframe\">\n",
       "  <thead>\n",
       "    <tr style=\"text-align: right;\">\n",
       "      <th></th>\n",
       "      <th>mae</th>\n",
       "      <th>mse</th>\n",
       "      <th>rmse</th>\n",
       "    </tr>\n",
       "  </thead>\n",
       "  <tbody>\n",
       "    <tr>\n",
       "      <th>0</th>\n",
       "      <td>3.31847</td>\n",
       "      <td>23.493376</td>\n",
       "      <td>4.846997</td>\n",
       "    </tr>\n",
       "  </tbody>\n",
       "</table>\n",
       "</div>"
      ],
      "text/plain": [
       "       mae        mse      rmse\n",
       "0  3.31847  23.493376  4.846997"
      ]
     },
     "execution_count": 75,
     "metadata": {},
     "output_type": "execute_result"
    }
   ],
   "source": [
    "X_train, X_test, X_val, y_train, y_test, y_val, X_train_full, y_train_full = data_handler()\n",
    "regressor_model(model,X_train_full,y_train_full,X_test,y_test)"
   ]
  },
  {
   "cell_type": "code",
   "execution_count": 76,
   "id": "cefad762",
   "metadata": {},
   "outputs": [
    {
     "data": {
      "text/plain": [
       "['../src/taxipred/models/taxi_XBGRegressor.joblib']"
      ]
     },
     "execution_count": 76,
     "metadata": {},
     "output_type": "execute_result"
    }
   ],
   "source": [
    "import joblib\n",
    "model.fit(X,y)\n",
    "\n",
    "joblib.dump(model, \"../src/taxipred/models/taxi_XBGRegressor.joblib\", compress=(\"xz\", 3), protocol=5)\n"
   ]
  }
 ],
 "metadata": {
  "kernelspec": {
   "display_name": "taxi-prediction-fullstack-Natali (3.12.8)",
   "language": "python",
   "name": "python3"
  },
  "language_info": {
   "codemirror_mode": {
    "name": "ipython",
    "version": 3
   },
   "file_extension": ".py",
   "mimetype": "text/x-python",
   "name": "python",
   "nbconvert_exporter": "python",
   "pygments_lexer": "ipython3",
   "version": "3.12.8"
  }
 },
 "nbformat": 4,
 "nbformat_minor": 5
}
