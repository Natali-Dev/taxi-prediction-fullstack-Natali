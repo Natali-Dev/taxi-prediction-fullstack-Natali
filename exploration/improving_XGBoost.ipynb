{
 "cells": [
  {
   "cell_type": "markdown",
   "id": "a6c92add",
   "metadata": {},
   "source": [
    "## Chosen model: XGBRegressor\n",
    "### finetuning hyperparameters"
   ]
  },
  {
   "cell_type": "code",
   "execution_count": 25,
   "id": "82748269",
   "metadata": {},
   "outputs": [
    {
     "data": {
      "text/html": [
       "<div>\n",
       "<style scoped>\n",
       "    .dataframe tbody tr th:only-of-type {\n",
       "        vertical-align: middle;\n",
       "    }\n",
       "\n",
       "    .dataframe tbody tr th {\n",
       "        vertical-align: top;\n",
       "    }\n",
       "\n",
       "    .dataframe thead th {\n",
       "        text-align: right;\n",
       "    }\n",
       "</style>\n",
       "<table border=\"1\" class=\"dataframe\">\n",
       "  <thead>\n",
       "    <tr style=\"text-align: right;\">\n",
       "      <th></th>\n",
       "      <th>mae</th>\n",
       "      <th>mse</th>\n",
       "      <th>rmse</th>\n",
       "    </tr>\n",
       "  </thead>\n",
       "  <tbody>\n",
       "    <tr>\n",
       "      <th>0</th>\n",
       "      <td>4.893943</td>\n",
       "      <td>45.529313</td>\n",
       "      <td>6.747541</td>\n",
       "    </tr>\n",
       "  </tbody>\n",
       "</table>\n",
       "</div>"
      ],
      "text/plain": [
       "        mae        mse      rmse\n",
       "0  4.893943  45.529313  6.747541"
      ]
     },
     "execution_count": 25,
     "metadata": {},
     "output_type": "execute_result"
    }
   ],
   "source": [
    "from xgboost import XGBRegressor\n",
    "from sklearn.model_selection import train_test_split\n",
    "from sklearn.metrics import mean_absolute_error, mean_squared_error, root_mean_squared_error\n",
    "import pandas as pd\n",
    "\n",
    "df_original = pd.read_csv(\"../src/taxipred/data/cleaned_data.csv\", index_col=0) #.drop(columns=['Weather','Time_of_Day', 'Day_of_Week', \"Traffic_Conditions\"])\n",
    "df_encoded = pd.get_dummies(df_original, drop_first=True)\n",
    "X, y = df_encoded.drop(columns=\"Trip_Price\"), df_encoded[\"Trip_Price\"]\n",
    "# X,y = df_original.drop(columns=\"Trip_Price\"), df_original[\"Trip_Price\"]\n",
    "model = XGBRegressor()\n",
    "def data_handler(): \n",
    "    \"\"\"-> X_train, X_test, X_val, y_train, y_test, y_val, X_train_full, y_train_full\"\"\"\n",
    "\n",
    "    X_train_full, X_test, y_train_full, y_test = train_test_split(X, y, test_size=0.1, random_state=42) #X_train_full använder du när du utvärderat alla modeller\n",
    "    X_train, X_val, y_train, y_val = train_test_split(X_train_full, y_train_full, test_size=0.11, random_state=42)\n",
    "\n",
    "    return X_train, X_test, X_val, y_train, y_test, y_val, X_train_full, y_train_full#scaled_X_train, scaled_X_test, scaled_X_val, y_train, y_test, y_val\n",
    "\n",
    "def regressor_model(model, data_for_training, y_true_for_training, data_to_predict, y_true):\n",
    "\n",
    "    model.fit(data_for_training, y_true_for_training)\n",
    "    y_pred = model.predict(data_to_predict)\n",
    "\n",
    "    mae = mean_absolute_error(y_true, y_pred)\n",
    "    mse = mean_squared_error(y_true, y_pred)\n",
    "    rmse = root_mean_squared_error(y_true, y_pred)\n",
    "\n",
    "    df_metric = pd.DataFrame([{\"mae\":mae,\"mse\":mse,\"rmse\": rmse}])\n",
    "    # mae, mse, rmse\n",
    "    return df_metric\n",
    "X_train, X_test, X_val, y_train, y_test, y_val,X_train_full, y_train_full = data_handler()\n",
    "regressor_model(model, X_train, y_train,X_val,y_val)"
   ]
  },
  {
   "cell_type": "code",
   "execution_count": 27,
   "id": "cb6150a3",
   "metadata": {},
   "outputs": [
    {
     "data": {
      "text/plain": [
       "(Index(['Trip_Distance_km', 'Passenger_Count', 'Base_Fare', 'Per_Km_Rate',\n",
       "        'Per_Minute_Rate', 'Trip_Duration_Minutes', 'Trip_Price',\n",
       "        'Time_of_Day_Evening', 'Time_of_Day_Morning', 'Time_of_Day_Night',\n",
       "        'Day_of_Week_Weekend', 'Traffic_Conditions_Low',\n",
       "        'Traffic_Conditions_Medium', 'Weather_Rain', 'Weather_Snow'],\n",
       "       dtype='object'),\n",
       " Trip_Distance_km           36.87\n",
       " Time_of_Day              Evening\n",
       " Day_of_Week              Weekend\n",
       " Passenger_Count              1.0\n",
       " Traffic_Conditions          High\n",
       " Weather                    Clear\n",
       " Base_Fare                    2.7\n",
       " Per_Km_Rate                 1.21\n",
       " Per_Minute_Rate             0.15\n",
       " Trip_Duration_Minutes      37.27\n",
       " Trip_Price               52.9032\n",
       " Name: 2, dtype: object)"
      ]
     },
     "execution_count": 27,
     "metadata": {},
     "output_type": "execute_result"
    }
   ],
   "source": [
    "df_encoded.columns, df_original.iloc[1]"
   ]
  },
  {
   "cell_type": "markdown",
   "id": "a2fb3284",
   "metadata": {},
   "source": [
    "## Evaluate parameters\n",
    "### Evaluate under/overfitting, \n",
    "- check to increase max_depth (if rmse with val is worse = overfitting, if both are bad = underfitting)\n",
    "- check reg_alpha, if underfitting on val-data lower to 0-1"
   ]
  },
  {
   "cell_type": "code",
   "execution_count": 22,
   "id": "3a878f9b",
   "metadata": {},
   "outputs": [
    {
     "data": {
      "text/html": [
       "<div>\n",
       "<style scoped>\n",
       "    .dataframe tbody tr th:only-of-type {\n",
       "        vertical-align: middle;\n",
       "    }\n",
       "\n",
       "    .dataframe tbody tr th {\n",
       "        vertical-align: top;\n",
       "    }\n",
       "\n",
       "    .dataframe thead th {\n",
       "        text-align: right;\n",
       "    }\n",
       "</style>\n",
       "<table border=\"1\" class=\"dataframe\">\n",
       "  <thead>\n",
       "    <tr style=\"text-align: right;\">\n",
       "      <th></th>\n",
       "      <th>mae</th>\n",
       "      <th>mse</th>\n",
       "      <th>rmse</th>\n",
       "    </tr>\n",
       "  </thead>\n",
       "  <tbody>\n",
       "    <tr>\n",
       "      <th>0</th>\n",
       "      <td>3.714098</td>\n",
       "      <td>31.293033</td>\n",
       "      <td>5.594018</td>\n",
       "    </tr>\n",
       "  </tbody>\n",
       "</table>\n",
       "</div>"
      ],
      "text/plain": [
       "        mae        mse      rmse\n",
       "0  3.714098  31.293033  5.594018"
      ]
     },
     "execution_count": 22,
     "metadata": {},
     "output_type": "execute_result"
    }
   ],
   "source": [
    "model = XGBRegressor(\n",
    "    n_estimators=1000, #antal träd som byggs D100\n",
    "    learning_rate=0.02, # Hur mkt varje nytt träd påverkar slutmodellen, lägre värden = stabilare men kräver fler träd. D0.3\n",
    "    max_depth=3, #större värden = risk för overfitting, mindre värden = risk för underfitting D6\n",
    "    min_child_weight=2, #minsta antal observationer för att skapa en ny nod, högre värden = mer konservativ D1\n",
    "    subsample=0.7, # antal rader som används per träd, < 1 ger slump och mindre overfitting. D1\n",
    "    colsample_bytree=0.9, #Andel features som används per träd D1\n",
    "    gamma=0, #minsta förbättring för att göra en split, högre värde = färre splits D0\n",
    "    reg_alpha=4, #L1 regularisering, gör modellen glesare D0\n",
    "    reg_lambda=1, #L2 regularisering, straffar stora koefficienter, stabiliserar D1\n",
    "    random_state=42, \n",
    "    \n",
    ") \n",
    "\n",
    "# objective=\"reg:squarederror\" #Standard för regression.\n",
    "# n_jobs =None, # Kör med alla tillängliga CPU-trådar\n",
    "# colsample_bytree=1.0 # Andel features som används per träd.\n",
    "# colsample_bynode=1.0 # Andel features per split.\n",
    "X_train, X_test, X_val, y_train, y_test, y_val, X_train_full, y_train_full = data_handler()\n",
    "regressor_model(model,X_train, y_train,X_val, y_val) #Bästa 6.21, depth = 3, 5.68, 5.60"
   ]
  },
  {
   "cell_type": "markdown",
   "id": "ca8d08b3",
   "metadata": {},
   "source": [
    "## Final check with X_test, if it looks good, export model"
   ]
  },
  {
   "cell_type": "code",
   "execution_count": 23,
   "id": "dd9e17ca",
   "metadata": {},
   "outputs": [
    {
     "data": {
      "text/html": [
       "<div>\n",
       "<style scoped>\n",
       "    .dataframe tbody tr th:only-of-type {\n",
       "        vertical-align: middle;\n",
       "    }\n",
       "\n",
       "    .dataframe tbody tr th {\n",
       "        vertical-align: top;\n",
       "    }\n",
       "\n",
       "    .dataframe thead th {\n",
       "        text-align: right;\n",
       "    }\n",
       "</style>\n",
       "<table border=\"1\" class=\"dataframe\">\n",
       "  <thead>\n",
       "    <tr style=\"text-align: right;\">\n",
       "      <th></th>\n",
       "      <th>mae</th>\n",
       "      <th>mse</th>\n",
       "      <th>rmse</th>\n",
       "    </tr>\n",
       "  </thead>\n",
       "  <tbody>\n",
       "    <tr>\n",
       "      <th>0</th>\n",
       "      <td>3.065971</td>\n",
       "      <td>20.099111</td>\n",
       "      <td>4.483203</td>\n",
       "    </tr>\n",
       "  </tbody>\n",
       "</table>\n",
       "</div>"
      ],
      "text/plain": [
       "        mae        mse      rmse\n",
       "0  3.065971  20.099111  4.483203"
      ]
     },
     "execution_count": 23,
     "metadata": {},
     "output_type": "execute_result"
    }
   ],
   "source": [
    "X_train, X_test, X_val, y_train, y_test, y_val, X_train_full, y_train_full = data_handler()\n",
    "regressor_model(model,X_train_full,y_train_full,X_test,y_test)"
   ]
  },
  {
   "cell_type": "code",
   "execution_count": 24,
   "id": "cefad762",
   "metadata": {},
   "outputs": [
    {
     "data": {
      "text/plain": [
       "['../src/taxipred/models/taxi_XBGRegressor.joblib']"
      ]
     },
     "execution_count": 24,
     "metadata": {},
     "output_type": "execute_result"
    }
   ],
   "source": [
    "import joblib\n",
    "model.fit(X,y)\n",
    "\n",
    "joblib.dump(model, \"../src/taxipred/models/taxi_XBGRegressor.joblib\", compress=(\"xz\", 3), protocol=5)\n"
   ]
  }
 ],
 "metadata": {
  "kernelspec": {
   "display_name": "taxi-prediction-fullstack-Natali (3.12.8)",
   "language": "python",
   "name": "python3"
  },
  "language_info": {
   "codemirror_mode": {
    "name": "ipython",
    "version": 3
   },
   "file_extension": ".py",
   "mimetype": "text/x-python",
   "name": "python",
   "nbconvert_exporter": "python",
   "pygments_lexer": "ipython3",
   "version": "3.12.8"
  }
 },
 "nbformat": 4,
 "nbformat_minor": 5
}
