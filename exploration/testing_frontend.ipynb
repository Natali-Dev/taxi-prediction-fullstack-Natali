{
 "cells": [
  {
   "cell_type": "code",
   "execution_count": 13,
   "id": "2a0ee06d",
   "metadata": {},
   "outputs": [
    {
     "data": {
      "text/plain": [
       "np.float64(51.54694225352113)"
      ]
     },
     "execution_count": 13,
     "metadata": {},
     "output_type": "execute_result"
    }
   ],
   "source": [
    "import pandas as pd \n",
    "df = pd.read_csv(\"../data/cleaned_data.csv\")\n",
    "\n",
    "df[\"Trip_Price\"].mean()"
   ]
  },
  {
   "cell_type": "code",
   "execution_count": 14,
   "id": "ff16791e",
   "metadata": {},
   "outputs": [
    {
     "data": {
      "text/plain": [
       "array([  5.,   6.,   7.,   8.,   9.,  10.,  11.,  12.,  13.,  14.,  15.,\n",
       "        16.,  17.,  18.,  19.,  20.,  21.,  22.,  23.,  24.,  25.,  26.,\n",
       "        27.,  28.,  29.,  30.,  31.,  32.,  33.,  34.,  35.,  36.,  37.,\n",
       "        38.,  39.,  40.,  41.,  42.,  43.,  44.,  45.,  46.,  47.,  48.,\n",
       "        49.,  50.,  51.,  52.,  53.,  54.,  55.,  56.,  57.,  58.,  59.,\n",
       "        60.,  61.,  62.,  63.,  64.,  65.,  66.,  67.,  68.,  69.,  70.,\n",
       "        71.,  72.,  73.,  74.,  75.,  76.,  77.,  78.,  79.,  80.,  81.,\n",
       "        82.,  83.,  84.,  85.,  86.,  87.,  88.,  89.,  90.,  91.,  92.,\n",
       "        93.,  94.,  95.,  96.,  97.,  98.,  99., 100., 101., 102., 103.,\n",
       "       104., 105., 106., 107., 108., 109., 110., 111., 112., 113., 114.,\n",
       "       115., 116., 117., 118., 119., 120.])"
      ]
     },
     "execution_count": 14,
     "metadata": {},
     "output_type": "execute_result"
    }
   ],
   "source": [
    "round(df[\"Trip_Duration_Minutes\"]).sort_values().unique()"
   ]
  },
  {
   "cell_type": "code",
   "execution_count": 15,
   "id": "57008842",
   "metadata": {},
   "outputs": [
    {
     "data": {
      "text/plain": [
       "'[{\"Trip_Distance_km\":19.35,\"Time_of_Day\":\"Morning\",\"Day_of_Week\":\"Weekday\",\"Passenger_Count\":3.0,\"Traffic_Conditions\":\"Low\",\"Weather\":\"Clear\",\"Base_Fare\":3.56,\"Per_Km_Rate\":0.8,\"Per_Minute_Rate\":0.32,'"
      ]
     },
     "execution_count": 15,
     "metadata": {},
     "output_type": "execute_result"
    }
   ],
   "source": [
    "import requests\n",
    "\n",
    "response = requests.get(url=\"http://127.0.0.1:8000/taxi\")\n",
    "\n",
    "response.text[:200]"
   ]
  },
  {
   "cell_type": "code",
   "execution_count": 16,
   "id": "a469b97b",
   "metadata": {},
   "outputs": [],
   "source": [
    "import pandas as pd\n",
    "import joblib\n",
    "from pydantic import BaseModel, Field\n",
    "from typing import Literal\n",
    "class Taxi(BaseModel):\n",
    "    Trip_Distance_km: float = Field(ge=1 ,le=1000)\t\n",
    "    Time_of_Day: Literal['Morning', 'Evening', 'Afternoon', 'Night']\t\n",
    "    Day_of_Week: Literal['Weekday', 'Weekend']\t\n",
    "    Passenger_Count: int = Field(ge= 1 ,le=4)\t\n",
    "    Traffic_Conditions: Literal['Low', 'High', 'Medium']\t\n",
    "    Weather: Literal['Clear', 'Rain', 'Snow']\n",
    "    Base_Fare: float = Field(ge= 1,le=10)\t\n",
    "    Per_Km_Rate: float = Field(ge= 0,le=10)\t\n",
    "    Per_Minute_Rate: float = Field(ge= 0,le=10)\t\n",
    "    Trip_Duration_Minutes: float = Field(ge= 0,le=180)\t\n",
    "\n",
    "\n",
    "new_payload = {\n",
    "\"Trip_Distance_km\": 100,\n",
    "\"Time_of_Day\": \"Morning\",\n",
    "\"Day_of_Week\": \"Weekday\",\n",
    "\"Passenger_Count\": 1,\n",
    "\"Traffic_Conditions\": \"Low\",\n",
    "\"Weather\": \"Clear\",\n",
    "\"Base_Fare\": 1,\n",
    "\"Per_Km_Rate\": 10,\n",
    "\"Per_Minute_Rate\": 10,\n",
    "\"Trip_Duration_Minutes\": 180,\n",
    "}\n",
    "\n",
    "\n",
    "# predict(payload)\n"
   ]
  },
  {
   "cell_type": "code",
   "execution_count": 17,
   "id": "6faf3b8a",
   "metadata": {},
   "outputs": [
    {
     "data": {
      "text/plain": [
       "'{\"predicted_price\":121.90372467041016}'"
      ]
     },
     "execution_count": 17,
     "metadata": {},
     "output_type": "execute_result"
    }
   ],
   "source": [
    "import httpx \n",
    "url = \"http://127.0.0.1:8000/taxi/predict\"\n",
    "user_input = Taxi.model_validate(new_payload)\n",
    "# user_input\n",
    "with httpx.Client(timeout=10) as client:\n",
    "    response = client.post(url, json=user_input.model_dump())\n",
    "\n",
    "response.text[:200]"
   ]
  },
  {
   "cell_type": "code",
   "execution_count": 18,
   "id": "59a39651",
   "metadata": {},
   "outputs": [
    {
     "data": {
      "text/plain": [
       "datetime.datetime(2025, 10, 2, 11, 46, 11, 976662)"
      ]
     },
     "execution_count": 18,
     "metadata": {},
     "output_type": "execute_result"
    }
   ],
   "source": [
    "import datetime\n",
    "time_day = datetime.datetime.now()\n",
    "time_day #år, månad, datum, timme, minut, sekund, millisekund"
   ]
  },
  {
   "cell_type": "code",
   "execution_count": 19,
   "id": "689dc9d8",
   "metadata": {},
   "outputs": [
    {
     "name": "stdout",
     "output_type": "stream",
     "text": [
      "2025-10-02 11:46:11.976662\n"
     ]
    }
   ],
   "source": [
    "print(time_day)"
   ]
  },
  {
   "cell_type": "code",
   "execution_count": 20,
   "id": "a75d3c8f",
   "metadata": {},
   "outputs": [
    {
     "data": {
      "text/plain": [
       "'Morning'"
      ]
     },
     "execution_count": 20,
     "metadata": {},
     "output_type": "execute_result"
    }
   ],
   "source": [
    "if time_day.hour > 4 < 12: \n",
    "    type_time = \"Morning\"\n",
    "if time_day.hour > 12 < 18: \n",
    "    type_time = \"Afternoon\"\n",
    "if time_day.hour > 18 < 23: \n",
    "    type_time = \"Evening\"\n",
    "if time_day.hour > 23 < 4: \n",
    "    type_time = \"Night\"\n",
    "type_time    "
   ]
  },
  {
   "cell_type": "code",
   "execution_count": 21,
   "id": "edb50ba2",
   "metadata": {},
   "outputs": [
    {
     "data": {
      "text/plain": [
       "3"
      ]
     },
     "execution_count": 21,
     "metadata": {},
     "output_type": "execute_result"
    }
   ],
   "source": [
    "time_day.weekday()\n"
   ]
  },
  {
   "cell_type": "code",
   "execution_count": 42,
   "id": "b3e99b73",
   "metadata": {},
   "outputs": [
    {
     "data": {
      "text/plain": [
       "'Medium'"
      ]
     },
     "execution_count": 42,
     "metadata": {},
     "output_type": "execute_result"
    }
   ],
   "source": [
    "hour = 12\n",
    "\n",
    "if hour > 8 < 18:\n",
    "    traffic = \"Medium\"\n",
    "    if hour == 7 or hour == 15 or hour == 16: \n",
    "        traffic = \"High\"\n",
    "else: \n",
    "    traffic = \"Low\"\n",
    "traffic"
   ]
  },
  {
   "cell_type": "code",
   "execution_count": null,
   "id": "72f394fc",
   "metadata": {},
   "outputs": [],
   "source": []
  }
 ],
 "metadata": {
  "kernelspec": {
   "display_name": "taxi-prediction-fullstack-Natali (3.12.8)",
   "language": "python",
   "name": "python3"
  },
  "language_info": {
   "codemirror_mode": {
    "name": "ipython",
    "version": 3
   },
   "file_extension": ".py",
   "mimetype": "text/x-python",
   "name": "python",
   "nbconvert_exporter": "python",
   "pygments_lexer": "ipython3",
   "version": "3.12.8"
  }
 },
 "nbformat": 4,
 "nbformat_minor": 5
}
