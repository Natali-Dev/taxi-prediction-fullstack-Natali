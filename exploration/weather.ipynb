{
 "cells": [
  {
   "cell_type": "code",
   "execution_count": 2,
   "id": "1e4efa7a",
   "metadata": {},
   "outputs": [],
   "source": [
    "from dotenv import load_dotenv\n",
    "import os\n",
    "import requests\n",
    "city = \"Göteborg\"\n",
    "load_dotenv()\n",
    "API_KEY = os.getenv(\"weather_api\")\n"
   ]
  },
  {
   "cell_type": "code",
   "execution_count": 3,
   "id": "c4d368a8",
   "metadata": {},
   "outputs": [
    {
     "data": {
      "text/plain": [
       "'{\"coord\":{\"lon\":11.9746,\"lat\":57.7089},\"weather\":[{\"id\":803,\"main\":\"Clouds\",\"description\":\"broken clouds\",\"icon\":\"04d\"}],\"base\":\"stations\",\"main\":{\"temp\":14.06,\"feels_like\":13.69,\"temp_min\":13.44,\"temp_max\":14.53,\"pressure\":1014,\"humidity\":83,\"sea_level\":1014,\"grnd_level\":1009},\"visibility\":10000,\"wind\":{\"speed\":1.54,\"deg\":360},\"clouds\":{\"all\":75},\"dt\":1759761621,\"sys\":{\"type\":2,\"id\":2002867,\"country\":\"SE\",\"sunrise\":1759728403,\"sunset\":1759768407},\"timezone\":7200,\"id\":2711537,\"name\":\"Gothenburg\",\"cod\":200}'"
      ]
     },
     "execution_count": 3,
     "metadata": {},
     "output_type": "execute_result"
    }
   ],
   "source": [
    "# url = \"https://api.openweathermap.org/data/2.5/weather?lat={lat}&lon={lon}&appid={API key}\"\n",
    "# url = f\"http://api.openweathermap.org/data/2.5/weather?q={city}&appid={API_KEY}&units=metric\"\n",
    "url = f\"http://api.openweathermap.org/data/2.5/weather?lat={57.7089}&lon={11.9746}&appid={API_KEY}&units=metric\"\n",
    "\n",
    "response = requests.get(url)\n",
    "response.text"
   ]
  },
  {
   "cell_type": "code",
   "execution_count": 8,
   "id": "898520a3",
   "metadata": {},
   "outputs": [
    {
     "data": {
      "text/plain": [
       "[{'id': 803, 'main': 'Clouds', 'description': 'broken clouds', 'icon': '04d'}]"
      ]
     },
     "execution_count": 8,
     "metadata": {},
     "output_type": "execute_result"
    }
   ],
   "source": [
    "import json\n",
    "text = json.loads(response.text)\n",
    "text[\"weather\"]"
   ]
  },
  {
   "cell_type": "code",
   "execution_count": 10,
   "id": "621d7d31",
   "metadata": {},
   "outputs": [
    {
     "data": {
      "text/plain": [
       "'Gothenburg'"
      ]
     },
     "execution_count": 10,
     "metadata": {},
     "output_type": "execute_result"
    }
   ],
   "source": [
    "text[\"name\"]"
   ]
  },
  {
   "cell_type": "code",
   "execution_count": 5,
   "id": "fd705ab7",
   "metadata": {},
   "outputs": [
    {
     "data": {
      "text/plain": [
       "{'id': 803, 'main': 'Clouds', 'description': 'broken clouds', 'icon': '04d'}"
      ]
     },
     "execution_count": 5,
     "metadata": {},
     "output_type": "execute_result"
    }
   ],
   "source": [
    "text[\"weather\"][0]"
   ]
  },
  {
   "cell_type": "code",
   "execution_count": 6,
   "id": "d5f35444",
   "metadata": {},
   "outputs": [
    {
     "data": {
      "text/plain": [
       "'Clouds'"
      ]
     },
     "execution_count": 6,
     "metadata": {},
     "output_type": "execute_result"
    }
   ],
   "source": [
    "text[\"weather\"][0][\"main\"]"
   ]
  },
  {
   "cell_type": "code",
   "execution_count": 7,
   "id": "3982a683",
   "metadata": {},
   "outputs": [
    {
     "data": {
      "text/plain": [
       "13.69"
      ]
     },
     "execution_count": 7,
     "metadata": {},
     "output_type": "execute_result"
    }
   ],
   "source": [
    "text[\"main\"][\"feels_like\"]"
   ]
  }
 ],
 "metadata": {
  "kernelspec": {
   "display_name": "taxi-prediction-fullstack-Natali (3.12.8)",
   "language": "python",
   "name": "python3"
  },
  "language_info": {
   "codemirror_mode": {
    "name": "ipython",
    "version": 3
   },
   "file_extension": ".py",
   "mimetype": "text/x-python",
   "name": "python",
   "nbconvert_exporter": "python",
   "pygments_lexer": "ipython3",
   "version": "3.12.8"
  }
 },
 "nbformat": 4,
 "nbformat_minor": 5
}
